{
 "cells": [
  {
   "cell_type": "code",
   "execution_count": 1,
   "metadata": {},
   "outputs": [],
   "source": [
    "#packages import\n",
    "import pandas as pd\n",
    "import numpy as np\n",
    "import matplotlib.pyplot as plt\n",
    "import sklearn\n",
    "import seaborn as sns"
   ]
  },
  {
   "cell_type": "code",
   "execution_count": 2,
   "metadata": {},
   "outputs": [],
   "source": [
    "#dataset import\n",
    "test_data = pd.read_csv(\"test.csv\")\n",
    "train_data = pd.read_csv(\"train.csv\")\n",
    "validation_data = pd.read_csv(\"validation.csv\")"
   ]
  },
  {
   "cell_type": "code",
   "execution_count": 6,
   "metadata": {},
   "outputs": [],
   "source": [
    "#basic methods for \"bidding\" in validation set and training set\n",
    "#takes in bid price and budget as parameters, tracks for bid >= payprice and deducts from budget if true\n",
    "#returns CTR (won bids with click == 1 / all bids won)\n",
    "def bid_con_val(price, budget):\n",
    "    counter = 0\n",
    "    get_bid = []\n",
    "    while ((budget >= 0) & (counter < len(validation_data))):\n",
    "        if(validation_data['payprice'][counter] <= price):\n",
    "            budget -= validation_data['payprice'][counter]\n",
    "            get_bid.append(validation_data['click'][counter])\n",
    "        counter += 1\n",
    "    return get_bid.count(1)\n",
    "\n",
    "def bid_con_train(price, budget):\n",
    "    counter = 0\n",
    "    get_bid = []\n",
    "    while ((budget >= 0) & (counter < len(train_data))):\n",
    "        if(train_data['payprice'][counter] <= price):\n",
    "            budget -= train_data['payprice'][counter]\n",
    "            get_bid.append(train_data['click'][counter])\n",
    "        counter += 1\n",
    "    return get_bid.count(1)"
   ]
  },
  {
   "cell_type": "code",
   "execution_count": 7,
   "metadata": {},
   "outputs": [],
   "source": [
    "#constant value declarations\n",
    "budget = 6250000"
   ]
  },
  {
   "cell_type": "code",
   "execution_count": 8,
   "metadata": {},
   "outputs": [
    {
     "name": "stdout",
     "output_type": "stream",
     "text": [
      "57\n"
     ]
    }
   ],
   "source": [
    "#optimal constant bid defined as 127, see item_constant.png\n",
    "#visually defining optimal random range to be 100 - 150, can further discuss\n",
    "print(bid_con_val(127, budget))"
   ]
  },
  {
   "cell_type": "code",
   "execution_count": 13,
   "metadata": {},
   "outputs": [],
   "source": [
    "#method for random bidding on validation set\n",
    "#takes a bid_range parameter [lowerbound, upperbound]\n",
    "random_range = [100,150]\n",
    "\n",
    "def bid_rand_val(bid_range, budget):\n",
    "    counter = 0\n",
    "    get_bid = []\n",
    "    while ((budget >= 0) & (counter < len(validation_data))):\n",
    "        price = np.random.randint(bid_range[0],bid_range[1])\n",
    "        if(validation_data['payprice'][counter] <= price):\n",
    "            budget -= validation_data['payprice'][counter]\n",
    "            get_bid.append(validation_data['click'][counter])\n",
    "        counter += 1\n",
    "    return get_bid.count(1)"
   ]
  },
  {
   "cell_type": "code",
   "execution_count": 14,
   "metadata": {},
   "outputs": [
    {
     "name": "stdout",
     "output_type": "stream",
     "text": [
      "55\n"
     ]
    }
   ],
   "source": [
    "print(bid_rand_val(random_range, budget))"
   ]
  },
  {
   "cell_type": "code",
   "execution_count": null,
   "metadata": {},
   "outputs": [],
   "source": [
    "#multi-agent random bidding\n"
   ]
  }
 ],
 "metadata": {
  "kernelspec": {
   "display_name": "Python 3",
   "language": "python",
   "name": "python3"
  },
  "language_info": {
   "codemirror_mode": {
    "name": "ipython",
    "version": 3
   },
   "file_extension": ".py",
   "mimetype": "text/x-python",
   "name": "python",
   "nbconvert_exporter": "python",
   "pygments_lexer": "ipython3",
   "version": "3.7.1"
  }
 },
 "nbformat": 4,
 "nbformat_minor": 2
}
