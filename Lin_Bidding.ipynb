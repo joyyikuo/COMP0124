{
 "cells": [
  {
   "cell_type": "code",
   "execution_count": 1,
   "metadata": {},
   "outputs": [],
   "source": [
    "%matplotlib inline\n",
    "import pandas as pd\n",
    "import numpy as np\n",
    "import matplotlib.pyplot as plt\n",
    "import seaborn as sns\n",
    "import itertools\n",
    "import math\n",
    "import random\n",
    "from sklearn.utils import resample\n",
    "from sklearn.externals import joblib\n",
    "import pickle\n",
    "from sklearn.linear_model import LogisticRegression\n",
    "from sklearn.feature_selection import RFECV\n",
    "from sklearn.model_selection import StratifiedKFold\n",
    "from sklearn.metrics import precision_score\n",
    "\n",
    "import warnings\n",
    "warnings.filterwarnings(\"ignore\", category=FutureWarning)"
   ]
  },
  {
   "cell_type": "code",
   "execution_count": 2,
   "metadata": {},
   "outputs": [],
   "source": [
    "#import Data\n",
    "X_train = pickle.load(open(\"X_train_features.pkl\", 'rb'))\n",
    "y_train = pickle.load(open(\"y_train_features.pkl\", 'rb'))\n",
    "X_validation = pickle.load(open(\"X_validation_features.pkl\", 'rb'))\n",
    "y_validation = pickle.load(open(\"y_validation_features.pkl\", 'rb'))\n",
    "\n",
    "Lin_features = pickle.load(open('bestFeatures.pkl', 'rb'))\n"
   ]
  },
  {
   "cell_type": "code",
   "execution_count": 3,
   "metadata": {},
   "outputs": [
    {
     "name": "stdout",
     "output_type": "stream",
     "text": [
      "240 of the original 580 are now being used\n"
     ]
    }
   ],
   "source": [
    "print(str(len(Lin_features)) + \" of the original \" + str(len(X_train.columns)) + \" are now being used\")"
   ]
  },
  {
   "cell_type": "code",
   "execution_count": 4,
   "metadata": {},
   "outputs": [
    {
     "name": "stdout",
     "output_type": "stream",
     "text": [
      "580\n"
     ]
    }
   ],
   "source": [
    "#Liimit the input data by the feature columns\n",
    "feature_X_train = X_train[Lin_features].values\n",
    "feature_X_val = X_validation[Lin_features].values\n",
    "\n",
    "print(len(X_validation.columns))"
   ]
  },
  {
   "cell_type": "code",
   "execution_count": 5,
   "metadata": {},
   "outputs": [],
   "source": [
    "#import unprocessed original data\n",
    "traindf = pd.read_csv(\"train.csv\")\n",
    "validationdf = pd.read_csv(\"validation.csv\")"
   ]
  },
  {
   "cell_type": "code",
   "execution_count": 6,
   "metadata": {},
   "outputs": [
    {
     "name": "stdout",
     "output_type": "stream",
     "text": [
      "In the training data, the average CTR is: 0.0738 , and the average BID is: $105.46\n"
     ]
    }
   ],
   "source": [
    "avgCTR = traindf[\"click\"].sum()*100/traindf.shape[0]\n",
    "\n",
    "avgBid_training = traindf.loc[traindf[\"click\"] == 1, \"payprice\"].mean()\n",
    "\n",
    "print(\"In the training data, the average CTR is: %.4f , and the average BID is: $%.2f\"\n",
    "      % (avgCTR, avgBid_training))\n",
    "\n",
    "\n",
    "bid_list = list(range(traindf.loc[traindf[\"click\"] == 1, \"payprice\"].min(),300, 5))"
   ]
  },
  {
   "cell_type": "code",
   "execution_count": null,
   "metadata": {},
   "outputs": [],
   "source": [
    "clf = LogisticRegression(C = 0.1, random_state = 123)\n",
    "clf.fit(feature_X_train, y_train)\n",
    "\n",
    "predict = clf.predict_proba(feature_X_val)\n",
    "predict_proba_list = clf.predict_proba(feature_X_val)\n",
    "\n",
    "validationdf['click_proba'] = [item[1] for item in predict_proba_list]\n"
   ]
  },
  {
   "cell_type": "code",
   "execution_count": 8,
   "metadata": {},
   "outputs": [],
   "source": [
    "\n",
    "def lin_bid(base_bid, budget = 6250000):\n",
    "    \n",
    "    bid = (base_bid * validationdf[\"click_proba\"]) / avgCTR\n",
    "        \n",
    "    counter = 0\n",
    "    clicks = 0\n",
    "    imp = 0\n",
    "    spent = 0\n",
    "    \n",
    "    while ((budget >= 0) & (counter < len(validationdf))):\n",
    "\n",
    "        if(validationdf['payprice'][counter] < bid[counter]):\n",
    "            budget -= validationdf['payprice'][counter]\n",
    "            spent += validationdf[\"payprice\"][counter]\n",
    "            clicks += validationdf['click'][counter]\n",
    "            imp += 1\n",
    "            \n",
    "        counter += 1\n",
    "        \n",
    "    ctr = clicks*100/imp\n",
    "    cpm = spent/imp\n",
    "    cpc = spent/clicks/1000\n",
    "    spent = round(spent/6250000 *100)\n",
    "    \n",
    "    \n",
    "    return clicks, ctr, spent, cpm, cpc, imp"
   ]
  },
  {
   "cell_type": "code",
   "execution_count": 9,
   "metadata": {
    "scrolled": true
   },
   "outputs": [
    {
     "name": "stdout",
     "output_type": "stream",
     "text": [
      "Bidding $ 4 scores:: 7 clicks, 0.24138 ctr, 0.0 spent, 8.00 cpm, 3.31 cpc, 2900 imp\n",
      "Bidding $ 9 scores:: 39 clicks, 0.40528 ctr, 2.0 spent, 14.08 cpm, 3.48 cpc, 9623 imp\n",
      "Bidding $ 14 scores:: 60 clicks, 0.34388 ctr, 5.0 spent, 18.27 cpm, 5.31 cpc, 17448 imp\n",
      "Bidding $ 19 scores:: 73 clicks, 0.28254 ctr, 9.0 spent, 22.09 cpm, 7.82 cpc, 25837 imp\n",
      "Bidding $ 24 scores:: 82 clicks, 0.23393 ctr, 14.0 spent, 25.26 cpm, 10.80 cpc, 35053 imp\n",
      "Bidding $ 29 scores:: 96 clicks, 0.21511 ctr, 20.0 spent, 27.78 cpm, 12.92 cpc, 44628 imp\n",
      "Bidding $ 34 scores:: 103 clicks, 0.19154 ctr, 26.0 spent, 29.97 cpm, 15.65 cpc, 53776 imp\n",
      "Bidding $ 39 scores:: 115 clicks, 0.18302 ctr, 32.0 spent, 31.92 cpm, 17.44 cpc, 62835 imp\n",
      "Bidding $ 44 scores:: 119 clicks, 0.16637 ctr, 39.0 spent, 33.90 cpm, 20.38 cpc, 71527 imp\n",
      "Bidding $ 49 scores:: 122 clicks, 0.15232 ctr, 46.0 spent, 35.84 cpm, 23.53 cpc, 80092 imp\n",
      "Bidding $ 54 scores:: 128 clicks, 0.14488 ctr, 53.0 spent, 37.53 cpm, 25.90 cpc, 88352 imp\n",
      "Bidding $ 59 scores:: 134 clicks, 0.13867 ctr, 61.0 spent, 39.22 cpm, 28.28 cpc, 96630 imp\n",
      "Bidding $ 64 scores:: 139 clicks, 0.13269 ctr, 68.0 spent, 40.75 cpm, 30.71 cpc, 104755 imp\n",
      "Bidding $ 69 scores:: 146 clicks, 0.12953 ctr, 76.0 spent, 42.20 cpm, 32.58 cpc, 112713 imp\n",
      "Bidding $ 74 scores:: 146 clicks, 0.12146 ctr, 84.0 spent, 43.52 cpm, 35.83 cpc, 120206 imp\n",
      "Bidding $ 79 scores:: 150 clicks, 0.11767 ctr, 91.0 spent, 44.75 cpm, 38.03 cpc, 127476 imp\n",
      "Bidding $ 84 scores:: 156 clicks, 0.11625 ctr, 98.0 spent, 45.83 cpm, 39.42 cpc, 134191 imp\n",
      "Bidding $ 89 scores:: 142 clicks, 0.10638 ctr, 100.0 spent, 46.82 cpm, 44.01 cpc, 133485 imp\n",
      "Bidding $ 94 scores:: 138 clicks, 0.10560 ctr, 100.0 spent, 47.82 cpm, 45.29 cpc, 130687 imp\n",
      "Bidding $ 99 scores:: 136 clicks, 0.10603 ctr, 100.0 spent, 48.73 cpm, 45.96 cpc, 128267 imp\n",
      "Bidding $ 104 scores:: 129 clicks, 0.10238 ctr, 100.0 spent, 49.60 cpm, 48.45 cpc, 126006 imp\n",
      "Bidding $ 109 scores:: 125 clicks, 0.10082 ctr, 100.0 spent, 50.41 cpm, 50.00 cpc, 123985 imp\n",
      "Bidding $ 114 scores:: 123 clicks, 0.10071 ctr, 100.0 spent, 51.18 cpm, 50.81 cpc, 122128 imp\n",
      "Bidding $ 119 scores:: 116 clicks, 0.09624 ctr, 100.0 spent, 51.86 cpm, 53.88 cpc, 120527 imp\n",
      "Bidding $ 124 scores:: 113 clicks, 0.09488 ctr, 100.0 spent, 52.48 cpm, 55.31 cpc, 119092 imp\n",
      "Bidding $ 129 scores:: 106 clicks, 0.09000 ctr, 100.0 spent, 53.07 cpm, 58.96 cpc, 117778 imp\n",
      "Bidding $ 134 scores:: 100 clicks, 0.08588 ctr, 100.0 spent, 53.67 cpm, 62.50 cpc, 116447 imp\n",
      "Bidding $ 139 scores:: 100 clicks, 0.08683 ctr, 100.0 spent, 54.27 cpm, 62.50 cpc, 115164 imp\n",
      "Bidding $ 144 scores:: 99 clicks, 0.08680 ctr, 100.0 spent, 54.80 cpm, 63.13 cpc, 114059 imp\n",
      "Bidding $ 149 scores:: 95 clicks, 0.08415 ctr, 100.0 spent, 55.36 cpm, 65.79 cpc, 112898 imp\n",
      "Bidding $ 154 scores:: 92 clicks, 0.08232 ctr, 100.0 spent, 55.92 cpm, 67.93 cpc, 111757 imp\n",
      "Bidding $ 159 scores:: 89 clicks, 0.08041 ctr, 100.0 spent, 56.47 cpm, 70.23 cpc, 110681 imp\n",
      "Bidding $ 164 scores:: 87 clicks, 0.07928 ctr, 100.0 spent, 56.95 cpm, 71.84 cpc, 109738 imp\n",
      "Bidding $ 169 scores:: 86 clicks, 0.07897 ctr, 100.0 spent, 57.39 cpm, 72.67 cpc, 108905 imp\n",
      "Bidding $ 174 scores:: 84 clicks, 0.07776 ctr, 100.0 spent, 57.86 cpm, 74.41 cpc, 108021 imp\n",
      "Bidding $ 179 scores:: 84 clicks, 0.07839 ctr, 100.0 spent, 58.33 cpm, 74.41 cpc, 107152 imp\n",
      "Bidding $ 184 scores:: 84 clicks, 0.07895 ctr, 100.0 spent, 58.74 cpm, 74.41 cpc, 106394 imp\n",
      "Bidding $ 189 scores:: 82 clicks, 0.07767 ctr, 100.0 spent, 59.20 cpm, 76.22 cpc, 105571 imp\n",
      "Bidding $ 194 scores:: 80 clicks, 0.07630 ctr, 100.0 spent, 59.61 cpm, 78.13 cpc, 104853 imp\n",
      "Bidding $ 199 scores:: 77 clicks, 0.07393 ctr, 100.0 spent, 60.01 cpm, 81.17 cpc, 104147 imp\n",
      "Bidding $ 204 scores:: 77 clicks, 0.07445 ctr, 100.0 spent, 60.43 cpm, 81.17 cpc, 103429 imp\n",
      "Bidding $ 209 scores:: 76 clicks, 0.07394 ctr, 100.0 spent, 60.81 cpm, 82.24 cpc, 102783 imp\n",
      "Bidding $ 214 scores:: 76 clicks, 0.07442 ctr, 100.0 spent, 61.20 cpm, 82.24 cpc, 102124 imp\n",
      "Bidding $ 219 scores:: 75 clicks, 0.07388 ctr, 100.0 spent, 61.56 cpm, 83.33 cpc, 101520 imp\n",
      "Bidding $ 224 scores:: 75 clicks, 0.07431 ctr, 100.0 spent, 61.93 cpm, 83.33 cpc, 100923 imp\n",
      "Bidding $ 229 scores:: 75 clicks, 0.07474 ctr, 100.0 spent, 62.28 cpm, 83.33 cpc, 100354 imp\n",
      "Bidding $ 234 scores:: 74 clicks, 0.07414 ctr, 100.0 spent, 62.62 cpm, 84.46 cpc, 99806 imp\n",
      "Bidding $ 239 scores:: 73 clicks, 0.07355 ctr, 100.0 spent, 62.97 cpm, 85.62 cpc, 99249 imp\n",
      "Bidding $ 244 scores:: 74 clicks, 0.07494 ctr, 100.0 spent, 63.29 cpm, 84.46 cpc, 98752 imp\n",
      "Bidding $ 249 scores:: 75 clicks, 0.07635 ctr, 100.0 spent, 63.62 cpm, 83.33 cpc, 98233 imp\n",
      "Bidding $ 254 scores:: 73 clicks, 0.07469 ctr, 100.0 spent, 63.95 cpm, 85.62 cpc, 97732 imp\n",
      "Bidding $ 259 scores:: 73 clicks, 0.07503 ctr, 100.0 spent, 64.24 cpm, 85.62 cpc, 97293 imp\n",
      "Bidding $ 264 scores:: 73 clicks, 0.07539 ctr, 100.0 spent, 64.54 cpm, 85.62 cpc, 96834 imp\n",
      "Bidding $ 269 scores:: 70 clicks, 0.07261 ctr, 100.0 spent, 64.83 cpm, 89.29 cpc, 96411 imp\n",
      "Bidding $ 274 scores:: 70 clicks, 0.07287 ctr, 100.0 spent, 65.06 cpm, 89.29 cpc, 96068 imp\n",
      "Bidding $ 279 scores:: 69 clicks, 0.07211 ctr, 100.0 spent, 65.32 cpm, 90.58 cpc, 95686 imp\n",
      "Bidding $ 284 scores:: 68 clicks, 0.07134 ctr, 100.0 spent, 65.57 cpm, 91.91 cpc, 95314 imp\n",
      "Bidding $ 289 scores:: 68 clicks, 0.07162 ctr, 100.0 spent, 65.83 cpm, 91.91 cpc, 94939 imp\n",
      "Bidding $ 294 scores:: 68 clicks, 0.07187 ctr, 100.0 spent, 66.05 cpm, 91.91 cpc, 94619 imp\n",
      "Bidding $ 299 scores:: 67 clicks, 0.07107 ctr, 100.0 spent, 66.29 cpm, 93.28 cpc, 94278 imp\n"
     ]
    }
   ],
   "source": [
    "clicks_list = []\n",
    "imp_list = []\n",
    "\n",
    "for bid in bid_list:\n",
    "    \n",
    "    clicks, ctr, spent, cpm, cpc, imp = lin_bid(bid)\n",
    "    print(\"Bidding $ %s scores:: %s clicks, %.5f ctr, %s spent, %.2f cpm, %.2f cpc, %s imp\"  \n",
    "          % (bid, clicks, ctr, spent, cpm, cpc, imp))\n",
    "    clicks_list.append(clicks)\n",
    "    imp_list.append(imp)    "
   ]
  },
  {
   "cell_type": "code",
   "execution_count": 10,
   "metadata": {},
   "outputs": [
    {
     "data": {
      "text/plain": [
       "Text(0, 0.5, '# of Impressions')"
      ]
     },
     "execution_count": 10,
     "metadata": {},
     "output_type": "execute_result"
    },
    {
     "data": {
      "image/png": "[encoded data removed]",
      "text/plain": [
       "<Figure size 720x576 with 1 Axes>"
      ]
     },
     "metadata": {
      "needs_background": "light"
     },
     "output_type": "display_data"
    }
   ],
   "source": [
    "plt.figure(figsize = (10,8))\n",
    "\n",
    "plt.subplot(3,1,1)\n",
    "plt.plot(bid_list, imp_list, \"b-\" )\n",
    "plt.xlabel(\"Base Bid\")\n",
    "plt.ylabel(\"# of Impressions\")"
   ]
  },
  {
   "cell_type": "code",
   "execution_count": 11,
   "metadata": {},
   "outputs": [
    {
     "data": {
      "text/plain": [
       "Text(0, 0.5, '# of Clicks')"
      ]
     },
     "execution_count": 11,
     "metadata": {},
     "output_type": "execute_result"
    },
    {
     "data": {
      "image/png": "[encoded data removed]",
      "text/plain": [
       "<Figure size 720x576 with 1 Axes>"
      ]
     },
     "metadata": {
      "needs_background": "light"
     },
     "output_type": "display_data"
    }
   ],
   "source": [
    "plt.figure(figsize = (10,8))\n",
    "\n",
    "plt.subplot(3,1,1)\n",
    "plt.plot(bid_list, clicks_list, \"r\")\n",
    "\n",
    "plt.xlabel(\"Base Bid\")\n",
    "plt.ylabel(\"# of Clicks\")"
   ]
  },
  {
   "cell_type": "code",
   "execution_count": 15,
   "metadata": {},
   "outputs": [
    {
     "name": "stdout",
     "output_type": "stream",
     "text": [
      "THE BEST BID IS\n",
      "Bidding $ 85 scores:: 157 clicks, 0.11579 ctr, 100.0 spent, 46.04 cpm, 39.76 cpc, 135587 imp\n"
     ]
    }
   ],
   "source": [
    "bid = 85\n",
    "clicks, ctr, spent, cpm, cpc, imp = lin_bid(bid)\n",
    "print(\"THE BEST BID IS\")\n",
    "print(\"Bidding $ %s scores:: %s clicks, %.5f ctr, %s spent, %.2f cpm, %.2f cpc, %s imp\"  \n",
    "      % (bid, clicks, ctr, spent, cpm, cpc, imp))\n"
   ]
  }
 ],
 "metadata": {
  "kernelspec": {
   "display_name": "Python 3",
   "language": "python",
   "name": "python3"
  },
  "language_info": {
   "codemirror_mode": {
    "name": "ipython",
    "version": 3
   },
   "file_extension": ".py",
   "mimetype": "text/x-python",
   "name": "python",
   "nbconvert_exporter": "python",
   "pygments_lexer": "ipython3",
   "version": "3.7.1"
  }
 },
 "nbformat": 4,
 "nbformat_minor": 2
}
