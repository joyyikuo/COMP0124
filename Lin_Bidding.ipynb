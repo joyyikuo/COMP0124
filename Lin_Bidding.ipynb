{
 "cells": [
  {
   "cell_type": "markdown",
   "metadata": {},
   "source": [
    "# Linear Bidding"
   ]
  },
  {
   "cell_type": "code",
   "execution_count": 5,
   "metadata": {},
   "outputs": [],
   "source": [
    "#packages import\n",
    "import pandas as pd\n",
    "import numpy as np\n",
    "import matplotlib.pyplot as plt\n",
    "import seaborn as sns\n",
    "import sklearn\n",
    "from sklearn.utils import resample\n",
    "import warnings\n",
    "warnings.filterwarnings(\"ignore\", category=FutureWarning)\n",
    "import pickle"
   ]
  },
  {
   "cell_type": "code",
   "execution_count": 44,
   "metadata": {},
   "outputs": [
    {
     "name": "stdout",
     "output_type": "stream",
     "text": [
      "LogisticRegression(C=1.0, class_weight=None, dual=False, fit_intercept=True,\n",
      "          intercept_scaling=1, max_iter=100, multi_class='warn',\n",
      "          n_jobs=None, penalty='l2', random_state=None, solver='warn',\n",
      "          tol=0.0001, verbose=0, warm_start=False)\n",
      "['click', 'adexchange', 'useragent_android_safari', 'useragent_windows_chrome', 'useragent_windows_firefox', 'useragent_windows_ie', 'slotvisibility_0', 'slotvisibility_1', 'slotvisibility_2', 'slotvisibility_Na', 'slotvisibility_OtherView', 'slotformat_0', 'slotformat_1', 'slotformat_Na', 'keypage_361e128affece850342293213691a043', 'keypage_d29e59bf0f7f8243858b8183f14d4412', 'slotsize_1000x90', 'slotsize_250x250', 'slotsize_320x50', 'slotsize_950x90']\n"
     ]
    }
   ],
   "source": [
    "# load information learned from the Feature Engineering file\n",
    "filename = 'Lin_model.sav'\n",
    "lin_model = pickle.load(open(filename, 'rb'))\n",
    "print(lin_model)\n",
    "\n",
    "features = 'features.pkl'\n",
    "features = pickle.load(open(features, 'rb'))\n",
    "print(features)\n",
    "\n",
    "#constant value between both datasets; based on the training dataset\n",
    "avgCTR = 0.0007375623256619447"
   ]
  },
  {
   "cell_type": "code",
   "execution_count": 15,
   "metadata": {},
   "outputs": [],
   "source": [
    "#dataset import\n",
    "validation_data = pd.read_csv(\"validation.csv\")\n",
    "\n",
    "validation_data['adexchange'] = validation_data['adexchange'].fillna(0)\n",
    "validation_data['slotsize'] = validation_data['slotwidth'].astype(str) + 'x' + validation_data['slotheight'].astype(str)\n",
    "validation_data.head(3)\n",
    "\n",
    "cat_col = ['useragent','slotvisibility', 'slotformat', 'keypage', 'slotsize']\n",
    "\n",
    "validation_data = pd.get_dummies(validation_data, columns=cat_col, prefix=cat_col)"
   ]
  },
  {
   "cell_type": "code",
   "execution_count": 23,
   "metadata": {},
   "outputs": [],
   "source": [
    "valid_X = validation_data[features]\n",
    "valid_y = validation_data[['click','bidprice', 'payprice']]"
   ]
  },
  {
   "cell_type": "code",
   "execution_count": 91,
   "metadata": {},
   "outputs": [
    {
     "name": "stdout",
     "output_type": "stream",
     "text": [
      "Frequency of unique values:\n",
      "[[     0      1]\n",
      " [303723    202]]\n"
     ]
    }
   ],
   "source": [
    "# valid_pred_CTR2 = lin_model.predict_proba(valid_X)\n",
    "# unique_elements, counts_elements = np.unique(valid_pred_CTR, return_counts=True)\n",
    "# print(\"Frequency of unique values:\")\n",
    "# print(np.asarray((unique_elements, counts_elements)))"
   ]
  },
  {
   "cell_type": "code",
   "execution_count": 27,
   "metadata": {},
   "outputs": [],
   "source": [
    "def performance(bids, true, budget=6250*1000, verbose=True):\n",
    "\n",
    "    CTR = 0\n",
    "    num_clicks = 0\n",
    "    spend = 0\n",
    "\n",
    "    #--- Combine data in to one dataframe ------\n",
    "    df = true.copy()\n",
    "    df['bid'] = bids\n",
    "\n",
    "    #--- Work out which bids were successful ---\n",
    "    #> if they are greater than payprice\n",
    "    success_bids = df[df.bid > df.payprice]\n",
    "\n",
    "\n",
    "\n",
    "    #--- Only keep bids that are within budget -\n",
    "    total_spend = np.cumsum(np.array(success_bids.payprice))\n",
    "\n",
    "    x=0\n",
    "    if len(total_spend)>0:\n",
    "        x = np.argmax(total_spend > budget)\n",
    "\n",
    "    if x>0:\n",
    "        # then at some point bids went over budget\n",
    "        in_budget_bids = success_bids[0:x-1]\n",
    "\n",
    "    else:\n",
    "        in_budget_bids = success_bids\n",
    "\n",
    "    spend = in_budget_bids.payprice.sum()\n",
    "\n",
    "\n",
    "    #--- Find out which bids were clicked ------\n",
    "    clicked_bids = in_budget_bids[in_budget_bids.click==1]\n",
    "\n",
    "    num_clicks = len(clicked_bids.payprice)\n",
    "\n",
    "    #--- click through rate -------\n",
    "    CTR = num_clicks/len(success_bids) if len(success_bids) > 0 else None\n",
    "\n",
    "\n",
    "\n",
    "\n",
    "    return CTR, num_clicks, spend"
   ]
  },
  {
   "cell_type": "code",
   "execution_count": null,
   "metadata": {},
   "outputs": [],
   "source": [
    "#other teams approach!!!!\n",
    "    '''\n",
    "    used the performance() function\n",
    "    valid_pred_CTR = lin_model.predict(valid_X) <= where the pCTR is the predicted value\n",
    "    '''"
   ]
  },
  {
   "cell_type": "code",
   "execution_count": 93,
   "metadata": {},
   "outputs": [
    {
     "data": {
      "image/png": "[encoded data removed]",
      "text/plain": [
       "<Figure size 432x288 with 1 Axes>"
      ]
     },
     "metadata": {
      "needs_background": "light"
     },
     "output_type": "display_data"
    }
   ],
   "source": [
    "valid_pred_CTR = lin_model.predict(valid_X)\n",
    "min_base_bid = 0\n",
    "max_base_bid = 5e4\n",
    "n_base_bids = 10000\n",
    "\n",
    "base_bid = np.linspace(min_base_bid, max_base_bid, n_base_bids)\n",
    "clicks = np.zeros_like(base_bid)\n",
    "CTR_list = []\n",
    "\n",
    "for i, bb in zip(range(n_base_bids), base_bid):\n",
    "    bids = bb*valid_pred_CTR\n",
    "    CTR = performance(bids, valid_y, verbose=False)\n",
    "    CTR_list.append(CTR)\n",
    "    clicks[i] = c\n",
    "    \n",
    "plt.plot(base_bid, CTR_list)\n",
    "plt.show()"
   ]
  },
  {
   "cell_type": "code",
   "execution_count": null,
   "metadata": {},
   "outputs": [],
   "source": [
    "#OUR APPROACH\n",
    "    '''\n",
    "    used the lin_bid() function\n",
    "    valid_pred_CTR2 = lin_model.predict_proba(valid_X) <= where the pCTR is the 'predict_proba' value\n",
    "    '''"
   ]
  },
  {
   "cell_type": "code",
   "execution_count": 100,
   "metadata": {},
   "outputs": [],
   "source": [
    "#bid = base bid×pCTR/avgCTR\n",
    "def lin_bid(data, df, base_bid, budget = 6250000):\n",
    "   \n",
    "    counter = 0\n",
    "    get_bid = []\n",
    "    while ((budget >= 0) & (counter < len(data))):\n",
    "        pCTR_list = lin_model.predict_proba(data.iloc[[counter]])\n",
    "        pCTR = [item[1] for item in pCTR_list][0]\n",
    "        \n",
    "        bid = base_bid * pCTR /avgCTR\n",
    "        \n",
    "        if(df['payprice'][counter] <= bid):\n",
    "            budget -= df['payprice'][counter]\n",
    "            get_bid.append(df['click'][counter])\n",
    "        counter += 1\n",
    "    return get_bid.count(1)"
   ]
  },
  {
   "cell_type": "code",
   "execution_count": null,
   "metadata": {},
   "outputs": [
    {
     "name": "stdout",
     "output_type": "stream",
     "text": [
      "0\n"
     ]
    }
   ],
   "source": [
    "min_base_bid = 0\n",
    "max_base_bid = 300\n",
    "n_base_bids = 10000\n",
    "\n",
    "base_bid = np.linspace(min_base_bid, max_base_bid, n_base_bids)\n",
    "clicks = np.zeros_like(base_bid)\n",
    "CTR_list = []\n",
    "\n",
    "for bb in range(min_base_bid,max_base_bid, 50):\n",
    "    #bids = bb*valid_pred_CTR2  \n",
    "    \n",
    "    print(bb)\n",
    "    CTR = lin_bid(valid_X, valid_y, bb)\n",
    "    CTR_list.append(CTR)\n",
    "    #clicks[i] = c\n",
    "\n",
    "print(CTR_list)    \n",
    "plt.plot(base_bid, CTR_list)\n",
    "plt.show()"
   ]
  },
  {
   "cell_type": "code",
   "execution_count": null,
   "metadata": {},
   "outputs": [],
   "source": [
    "min_base_bid = 0\n",
    "max_base_bid = 300\n",
    "n_base_bids = 10000\n",
    "\n",
    "base_bid = np.linspace(min_base_bid, max_base_bid, n_base_bids)\n",
    "clicks = np.zeros_like(base_bid)\n",
    "CTR_list = []\n",
    "\n",
    "for bb in range(min_base_bid,max_base_bid, 10):\n",
    "    #bids = bb*valid_pred_CTR2/avgCTR  \n",
    "    #print(np.unique(bids))\n",
    "    CTR = lin_bid(bb, valid_y)\n",
    "    print(bb, CTR)\n",
    "    CTR_list.append(CTR)\n",
    "    #clicks[i] = c\n",
    "\n",
    "print(CTR_list)    \n",
    "plt.plot(base_bid, CTR_list)\n",
    "plt.show()"
   ]
  }
 ],
 "metadata": {
  "kernelspec": {
   "display_name": "Python 3",
   "language": "python",
   "name": "python3"
  }
 },
 "nbformat": 4,
 "nbformat_minor": 2
}
