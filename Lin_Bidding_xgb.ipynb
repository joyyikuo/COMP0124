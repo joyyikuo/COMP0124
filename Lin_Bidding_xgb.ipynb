{
 "cells": [
  {
   "cell_type": "code",
   "execution_count": 1,
   "metadata": {},
   "outputs": [],
   "source": [
    "%matplotlib inline\n",
    "import pandas as pd\n",
    "import numpy as np\n",
    "import matplotlib.pyplot as plt\n",
    "import seaborn as sns\n",
    "import itertools\n",
    "import math\n",
    "import random\n",
    "from sklearn.utils import resample\n",
    "from sklearn.externals import joblib\n",
    "import pickle\n",
    "from sklearn.linear_model import LogisticRegression\n",
    "from sklearn.feature_selection import RFECV\n",
    "from sklearn.model_selection import StratifiedKFold\n",
    "from sklearn.metrics import precision_score\n",
    "import xgboost\n",
    "\n",
    "import warnings\n",
    "warnings.filterwarnings(\"ignore\", category=FutureWarning)"
   ]
  },
  {
   "cell_type": "markdown",
   "metadata": {},
   "source": [
    "# IMPORT DATA"
   ]
  },
  {
   "cell_type": "code",
   "execution_count": 2,
   "metadata": {},
   "outputs": [],
   "source": [
    "#import Pickled Data\n",
    "\n",
    "X_train = pickle.load(open(\"X_train_features.pkl\", 'rb'))\n",
    "y_train = pickle.load(open(\"y_train_features.pkl\", 'rb'))\n",
    "X_validation = pickle.load(open(\"X_validation_features.pkl\", 'rb'))\n",
    "y_validation = pickle.load(open(\"y_validation_features.pkl\", 'rb'))\n",
    "X_test = pickle.load(open(\"X_test_features.pkl\", 'rb'))\n",
    "\n",
    "\n",
    "\n",
    "X_train_pay = pickle.load(open(\"X_train_pay.pkl\", 'rb'))\n",
    "\n",
    "Lin_features = pickle.load(open('bestFeatures.pkl', 'rb'))\n"
   ]
  },
  {
   "cell_type": "code",
   "execution_count": 3,
   "metadata": {},
   "outputs": [],
   "source": [
    "#import unprocessed original data\n",
    "\n",
    "traindf = pd.read_csv(\"train.csv\")\n",
    "validationdf = pd.read_csv(\"validation.csv\")\n",
    "testdf = pd.read_csv(\"test.csv\")\n"
   ]
  },
  {
   "cell_type": "code",
   "execution_count": 4,
   "metadata": {},
   "outputs": [],
   "source": [
    "#Liimit the input data by the feature columns\n",
    "\n",
    "feature_X_train = X_train[Lin_features].values\n",
    "feature_X_val = X_validation[Lin_features].values\n",
    "feature_X_test = X_test[Lin_features].values\n",
    "\n",
    "#print(len(X_validation.columns))"
   ]
  },
  {
   "cell_type": "code",
   "execution_count": 25,
   "metadata": {},
   "outputs": [
    {
     "name": "stdout",
     "output_type": "stream",
     "text": [
      "In the training data, the average CTR is: 0.0738 , and the average BID is: $105.46\n"
     ]
    }
   ],
   "source": [
    "'''\n",
    "Creating the necessary variables for the the average CTR \n",
    "and the range which will be used to test the base bid\n",
    "'''\n",
    "avgCTR = traindf[\"click\"].sum()*100/traindf.shape[0]\n",
    "bid_list = range(100,150, 5)\n",
    "\n",
    "\n",
    "avgBid_training = traindf.loc[traindf[\"click\"] == 1, \"payprice\"].mean()\n",
    "print(\"In the training data, the average CTR is: %.4f , and the average BID is: $%.2f\"\n",
    "      % (avgCTR, avgBid_training))\n"
   ]
  },
  {
   "cell_type": "markdown",
   "metadata": {},
   "source": [
    "# XGB"
   ]
  },
  {
   "cell_type": "code",
   "execution_count": 29,
   "metadata": {},
   "outputs": [],
   "source": [
    "\n",
    "import os\n",
    "os.environ['KMP_DUPLICATE_LIB_OK']='True'\n",
    "import xgboost as xgb\n",
    "\n",
    "xgb_clf = xgb.XGBClassifier(objective='binary:logistic', colsample_bytree = 0.2, learning_rate = 0.1,\n",
    "               max_depth = 5, alpha = 10, n_estimators = 500, random_state = 123)\n",
    "\n",
    "xgb_clf.fit(feature_X_train, y_train)\n",
    "\n",
    "\n",
    "predict_proba_list_val = xgb_clf.predict_proba(feature_X_val)\n",
    "\n",
    "predict_proba_list_test = xgb_clf.predict_proba(feature_X_test)\n",
    "\n",
    "validationdf['click_proba_xgb'] = [item[1] for item in predict_proba_list_val]\n",
    "testdf['click_proba_xgb'] = [item[1] for item in predict_proba_list_test]"
   ]
  },
  {
   "cell_type": "code",
   "execution_count": 13,
   "metadata": {},
   "outputs": [],
   "source": [
    "'''\n",
    "Linear bidding which bids on each row based on the mulipication of the base bid \n",
    "by the row's likeliness of getting a click, divided by the avg CTR'''\n",
    "\n",
    "\n",
    "def lin_bid(base_bid, df, budget = 6250000):\n",
    "    \n",
    "    bid = (base_bid * df[\"click_proba_xgb\"]) / avgCTR\n",
    "        \n",
    "    counter = 0\n",
    "    clicks = 0\n",
    "    imp = 0\n",
    "    spent = 0\n",
    "    \n",
    "    while ((budget >= 0) & (counter < len(df))):\n",
    "\n",
    "        if(df['payprice'][counter] < bid[counter]):\n",
    "            budget -= df['payprice'][counter]\n",
    "            spent += df[\"payprice\"][counter]\n",
    "            clicks += df['click'][counter]\n",
    "            imp += 1\n",
    "            \n",
    "        counter += 1\n",
    "        \n",
    "    ctr = clicks/imp\n",
    "    cpm = spent/imp\n",
    "    cpc = spent/clicks/1000\n",
    "    spent = round(spent/6250000 *100)\n",
    "    \n",
    "    \n",
    "    return clicks, ctr, spent, cpm, cpc, imp, bid"
   ]
  },
  {
   "cell_type": "code",
   "execution_count": 14,
   "metadata": {},
   "outputs": [],
   "source": [
    "def run_lin_bid_model(df):\n",
    "    clicks_list = []\n",
    "    imp_list = []\n",
    "\n",
    "    for bid in bid_list:\n",
    "\n",
    "        clicks, ctr, spent, cpm, cpc, imp, bids = lin_bid(bid, df)\n",
    "        print(\"Bidding $ %s scores:: %s clicks, %.5f ctr, %s spent, %.2f cpm, %.2f cpc, %s imp\"  \n",
    "              % (bid, clicks, ctr, spent, cpm, cpc, imp))\n",
    "        clicks_list.append(clicks)\n",
    "        imp_list.append(imp)  \n",
    "\n",
    "    plt.figure(figsize = (10,8))\n",
    "\n",
    "    plt.subplot(3,1,1)\n",
    "    plt.plot(bid_list, imp_list, \"b-\" )\n",
    "    plt.xlabel(\"Base Bid\")\n",
    "    plt.ylabel(\"# of Impressions\")\n",
    "    plt.show()\n",
    "\n",
    "    plt.figure(figsize = (10,8))\n",
    "\n",
    "    plt.subplot(3,1,1)\n",
    "    plt.plot(bid_list, clicks_list, \"r\")\n",
    "\n",
    "    plt.xlabel(\"Base Bid\")\n",
    "    plt.ylabel(\"# of Clicks\")\n",
    "    plt.show()"
   ]
  },
  {
   "cell_type": "markdown",
   "metadata": {},
   "source": [
    "# PREDICT THE VALIDATION DATAFRAME"
   ]
  },
  {
   "cell_type": "code",
   "execution_count": 30,
   "metadata": {
    "scrolled": true
   },
   "outputs": [
    {
     "name": "stdout",
     "output_type": "stream",
     "text": [
      "Bidding $ 100 scores:: 157 clicks, 0.00135 ctr, 84.0 spent, 45.53 cpm, 33.61 cpc, 115878 imp\n",
      "Bidding $ 105 scores:: 161 clicks, 0.00134 ctr, 89.0 spent, 46.30 cpm, 34.66 cpc, 120521 imp\n",
      "Bidding $ 110 scores:: 161 clicks, 0.00129 ctr, 94.0 spent, 47.03 cpm, 36.51 cpc, 124992 imp\n",
      "Bidding $ 115 scores:: 162 clicks, 0.00125 ctr, 99.0 spent, 47.73 cpm, 38.10 cpc, 129322 imp\n",
      "Bidding $ 120 scores:: 155 clicks, 0.00120 ctr, 100.0 spent, 48.34 cpm, 40.32 cpc, 129283 imp\n",
      "Bidding $ 125 scores:: 145 clicks, 0.00114 ctr, 100.0 spent, 48.95 cpm, 43.10 cpc, 127675 imp\n",
      "Bidding $ 130 scores:: 142 clicks, 0.00113 ctr, 100.0 spent, 49.54 cpm, 44.01 cpc, 126172 imp\n",
      "Bidding $ 135 scores:: 140 clicks, 0.00112 ctr, 100.0 spent, 50.15 cpm, 44.64 cpc, 124625 imp\n",
      "Bidding $ 140 scores:: 135 clicks, 0.00110 ctr, 100.0 spent, 50.73 cpm, 46.30 cpc, 123198 imp\n",
      "Bidding $ 145 scores:: 133 clicks, 0.00109 ctr, 100.0 spent, 51.23 cpm, 46.99 cpc, 121999 imp\n"
     ]
    },
    {
     "data": {
      "image/png": "[encoded data removed]",
      "text/plain": [
       "<Figure size 720x576 with 1 Axes>"
      ]
     },
     "metadata": {
      "needs_background": "light"
     },
     "output_type": "display_data"
    },
    {
     "data": {
      "image/png": "[encoded data removed]",
      "text/plain": [
       "<Figure size 720x576 with 1 Axes>"
      ]
     },
     "metadata": {
      "needs_background": "light"
     },
     "output_type": "display_data"
    }
   ],
   "source": [
    "run_lin_bid_model(validationdf)"
   ]
  },
  {
   "cell_type": "code",
   "execution_count": 33,
   "metadata": {},
   "outputs": [
    {
     "name": "stdout",
     "output_type": "stream",
     "text": [
      "THE BEST BID IS\n",
      "Bidding $ 115 scores:: 162 clicks, 0.00125 ctr, 99.0 spent, 47.73 cpm, 38.10 cpc, 129322 imp\n"
     ]
    }
   ],
   "source": [
    "bid = 115\n",
    "clicks, ctr, spent, cpm, cpc, imp, bids = lin_bid(bid, validationdf)\n",
    "print(\"THE BEST BID IS\")\n",
    "print(\"Bidding $ %s scores:: %s clicks, %.5f ctr, %s spent, %.2f cpm, %.2f cpc, %s imp\"  \n",
    "      % (bid, clicks, ctr, spent, cpm, cpc, imp))\n"
   ]
  },
  {
   "cell_type": "markdown",
   "metadata": {},
   "source": [
    "# LEADERBOARD BIDS"
   ]
  },
  {
   "cell_type": "code",
   "execution_count": 34,
   "metadata": {},
   "outputs": [
    {
     "data": {
      "text/html": [
       "<div>\n",
       "<style scoped>\n",
       "    .dataframe tbody tr th:only-of-type {\n",
       "        vertical-align: middle;\n",
       "    }\n",
       "\n",
       "    .dataframe tbody tr th {\n",
       "        vertical-align: top;\n",
       "    }\n",
       "\n",
       "    .dataframe thead th {\n",
       "        text-align: right;\n",
       "    }\n",
       "</style>\n",
       "<table border=\"1\" class=\"dataframe\">\n",
       "  <thead>\n",
       "    <tr style=\"text-align: right;\">\n",
       "      <th></th>\n",
       "      <th>bidid</th>\n",
       "      <th>bidprice</th>\n",
       "    </tr>\n",
       "  </thead>\n",
       "  <tbody>\n",
       "    <tr>\n",
       "      <th>224409</th>\n",
       "      <td>d050d7edff07a5b662957044c4b1bd70616d452e</td>\n",
       "      <td>1558.0</td>\n",
       "    </tr>\n",
       "    <tr>\n",
       "      <th>63890</th>\n",
       "      <td>9459958149b5a60a9e597a143be0ea49f2c13eea</td>\n",
       "      <td>1558.0</td>\n",
       "    </tr>\n",
       "    <tr>\n",
       "      <th>216364</th>\n",
       "      <td>bff90bfd980eec7478bc24b1724e2d0f94e39a86</td>\n",
       "      <td>1558.0</td>\n",
       "    </tr>\n",
       "    <tr>\n",
       "      <th>238648</th>\n",
       "      <td>df2f7f700fe1d3c5b00b6d3f662408ad16bc4598</td>\n",
       "      <td>1558.0</td>\n",
       "    </tr>\n",
       "    <tr>\n",
       "      <th>165726</th>\n",
       "      <td>f27dad6f9b4b604a77c7940ae3bd92fc24cf7b85</td>\n",
       "      <td>1557.0</td>\n",
       "    </tr>\n",
       "    <tr>\n",
       "      <th>282799</th>\n",
       "      <td>c7316cea40be46d0ff6a660da5135428c041e219</td>\n",
       "      <td>1556.0</td>\n",
       "    </tr>\n",
       "    <tr>\n",
       "      <th>121051</th>\n",
       "      <td>0246d64b49fa8269ce10e4f46b767e6968d8b381</td>\n",
       "      <td>1555.0</td>\n",
       "    </tr>\n",
       "    <tr>\n",
       "      <th>223866</th>\n",
       "      <td>e81cf8b7328118ace54c3cd40fb34b79f2c7aa8a</td>\n",
       "      <td>1554.0</td>\n",
       "    </tr>\n",
       "    <tr>\n",
       "      <th>170850</th>\n",
       "      <td>1e5438ffc4739b102676cdf667eb659c42530351</td>\n",
       "      <td>1552.0</td>\n",
       "    </tr>\n",
       "    <tr>\n",
       "      <th>202026</th>\n",
       "      <td>91c2b30a1642bd86c3d9cbd947cd6de514e87a33</td>\n",
       "      <td>1552.0</td>\n",
       "    </tr>\n",
       "  </tbody>\n",
       "</table>\n",
       "</div>"
      ],
      "text/plain": [
       "                                           bidid  bidprice\n",
       "224409  d050d7edff07a5b662957044c4b1bd70616d452e    1558.0\n",
       "63890   9459958149b5a60a9e597a143be0ea49f2c13eea    1558.0\n",
       "216364  bff90bfd980eec7478bc24b1724e2d0f94e39a86    1558.0\n",
       "238648  df2f7f700fe1d3c5b00b6d3f662408ad16bc4598    1558.0\n",
       "165726  f27dad6f9b4b604a77c7940ae3bd92fc24cf7b85    1557.0\n",
       "282799  c7316cea40be46d0ff6a660da5135428c041e219    1556.0\n",
       "121051  0246d64b49fa8269ce10e4f46b767e6968d8b381    1555.0\n",
       "223866  e81cf8b7328118ace54c3cd40fb34b79f2c7aa8a    1554.0\n",
       "170850  1e5438ffc4739b102676cdf667eb659c42530351    1552.0\n",
       "202026  91c2b30a1642bd86c3d9cbd947cd6de514e87a33    1552.0"
      ]
     },
     "execution_count": 34,
     "metadata": {},
     "output_type": "execute_result"
    }
   ],
   "source": [
    "#Will output the csv which will be used for the leaderboard website\n",
    "l_bid = 115\n",
    "testdf['bidprice'] = round((l_bid * testdf[\"click_proba_xgb\"]) / avgCTR)\n",
    "\n",
    "\n",
    "leaderboard_output = testdf[['bidid','bidprice']]\n",
    "\n",
    "#DETERMINE HOW TO SORT\n",
    "#leaderboard_output = leaderboard_output.sort_values(by='bidprice', ascending=False)\n",
    "leaderboard_output.to_csv(\"testing bidding price.csv\", index=False)\n",
    "\n",
    "leaderboard_output.head(10)"
   ]
  }
 ],
 "metadata": {
  "kernelspec": {
   "display_name": "Python 3",
   "language": "python",
   "name": "python3"
  },
  "language_info": {
   "codemirror_mode": {
    "name": "ipython",
    "version": 3
   },
   "file_extension": ".py",
   "mimetype": "text/x-python",
   "name": "python",
   "nbconvert_exporter": "python",
   "pygments_lexer": "ipython3",
   "version": "3.7.1"
  }
 },
 "nbformat": 4,
 "nbformat_minor": 2
}
