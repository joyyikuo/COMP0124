{
 "cells": [
  {
   "cell_type": "code",
   "execution_count": 12,
   "metadata": {},
   "outputs": [],
   "source": [
    "#packages import\n",
    "import pandas as pd\n",
    "import numpy as np\n",
    "import matplotlib.pyplot as plt\n",
    "import seaborn as sns\n",
    "import sklearn\n",
    "from sklearn.feature_selection import SelectKBest, chi2\n",
    "from sklearn.compose import make_column_transformer\n",
    "from sklearn.preprocessing import RobustScaler, OneHotEncoder, LabelEncoder\n",
    "from sklearn.utils import resample"
   ]
  },
  {
   "cell_type": "code",
   "execution_count": 13,
   "metadata": {},
   "outputs": [],
   "source": [
    "#dataset import\n",
    "#test_data = pd.read_csv(\"test.csv\")\n",
    "train_data = pd.read_csv(\"train.csv\")\n",
    "validation_data = pd.read_csv(\"validation.csv\")"
   ]
  },
  {
   "cell_type": "markdown",
   "metadata": {},
   "source": [
    "#Apply CTR estimation to create linear bidding strategy, proportional to pCTR\n",
    "\n",
    "#bid = base_bid * pCTR /avgCTR\n",
    "#base_bid - the big price for the avg CTR cases\n"
   ]
  },
  {
   "cell_type": "markdown",
   "metadata": {},
   "source": [
    "Apply CTR estimation to create a linear bidding strategy. The bid value is linearly proportional to the pCTR\n",
    "(predicted CTR). The formula can be generally written as\n",
    "bid = base bid×pCT R/avgCTR, \n",
    "where the tuning parameter\n",
    "base bid is the bid price for the average CTR cases. Optimise the base bid and the CTR estimation and evaluate the\n",
    "performance of your model using the metrics as defined in\n",
    "Section 3.3. Discuss and compare your results."
   ]
  },
  {
   "cell_type": "markdown",
   "metadata": {},
   "source": [
    "mCPC - the max cost per click"
   ]
  },
  {
   "cell_type": "markdown",
   "metadata": {},
   "source": [
    "Linear-form bidding of pCTR (Lin) - Parametic as it considers the bugit limit when the parameters are tuned.\n",
    "Also needs to evaluate the CTR for each impression\n",
    "\n",
    "CTR - click through rate - # of clicks over winning impressions"
   ]
  },
  {
   "cell_type": "code",
   "execution_count": 14,
   "metadata": {},
   "outputs": [
    {
     "data": {
      "text/plain": [
       "['click',\n",
       " 'weekday',\n",
       " 'hour',\n",
       " 'bidid',\n",
       " 'userid',\n",
       " 'useragent',\n",
       " 'IP',\n",
       " 'region',\n",
       " 'city',\n",
       " 'adexchange',\n",
       " 'domain',\n",
       " 'url',\n",
       " 'urlid',\n",
       " 'slotid',\n",
       " 'slotwidth',\n",
       " 'slotheight',\n",
       " 'slotvisibility',\n",
       " 'slotformat',\n",
       " 'slotprice',\n",
       " 'creative',\n",
       " 'bidprice',\n",
       " 'payprice',\n",
       " 'keypage',\n",
       " 'advertiser',\n",
       " 'usertag']"
      ]
     },
     "execution_count": 14,
     "metadata": {},
     "output_type": "execute_result"
    }
   ],
   "source": [
    "list(train_data)"
   ]
  },
  {
   "cell_type": "code",
   "execution_count": 16,
   "metadata": {},
   "outputs": [
    {
     "name": "stdout",
     "output_type": "stream",
     "text": [
      "99.89% impression win rate\n"
     ]
    }
   ],
   "source": [
    "# check the action win rate for impressions\n",
    "win_rate = round(len(train_data.loc[train_data['bidprice'] > train_data['payprice']])*100/len(train_data), 2)\n",
    "\n",
    "print(str(win_rate) + \"% impression win rate\")\n"
   ]
  },
  {
   "cell_type": "code",
   "execution_count": 17,
   "metadata": {},
   "outputs": [
    {
     "data": {
      "text/html": [
       "<div>\n",
       "<style scoped>\n",
       "    .dataframe tbody tr th:only-of-type {\n",
       "        vertical-align: middle;\n",
       "    }\n",
       "\n",
       "    .dataframe tbody tr th {\n",
       "        vertical-align: top;\n",
       "    }\n",
       "\n",
       "    .dataframe thead th {\n",
       "        text-align: right;\n",
       "    }\n",
       "</style>\n",
       "<table border=\"1\" class=\"dataframe\">\n",
       "  <thead>\n",
       "    <tr style=\"text-align: right;\">\n",
       "      <th></th>\n",
       "      <th>click</th>\n",
       "      <th>weekday</th>\n",
       "      <th>hour</th>\n",
       "      <th>bidid</th>\n",
       "      <th>userid</th>\n",
       "      <th>useragent</th>\n",
       "      <th>IP</th>\n",
       "      <th>region</th>\n",
       "      <th>city</th>\n",
       "      <th>adexchange</th>\n",
       "      <th>...</th>\n",
       "      <th>slotheight</th>\n",
       "      <th>slotvisibility</th>\n",
       "      <th>slotformat</th>\n",
       "      <th>slotprice</th>\n",
       "      <th>creative</th>\n",
       "      <th>bidprice</th>\n",
       "      <th>payprice</th>\n",
       "      <th>keypage</th>\n",
       "      <th>advertiser</th>\n",
       "      <th>usertag</th>\n",
       "    </tr>\n",
       "  </thead>\n",
       "  <tbody>\n",
       "    <tr>\n",
       "      <th>0</th>\n",
       "      <td>0</td>\n",
       "      <td>5</td>\n",
       "      <td>22</td>\n",
       "      <td>b7bea80521fdecd95d2d761a38c91c3f09618066</td>\n",
       "      <td>2e880fb7d690cf7377b2e42e701728e3f3c0e4c1</td>\n",
       "      <td>windows_ie</td>\n",
       "      <td>125.37.175.*</td>\n",
       "      <td>2</td>\n",
       "      <td>2</td>\n",
       "      <td>2.0</td>\n",
       "      <td>...</td>\n",
       "      <td>200</td>\n",
       "      <td>2</td>\n",
       "      <td>0</td>\n",
       "      <td>5</td>\n",
       "      <td>a4f763f78ef3eedfe614263b94a8924e</td>\n",
       "      <td>238</td>\n",
       "      <td>5</td>\n",
       "      <td>0f951a030abdaedd733ee8d114ce2944</td>\n",
       "      <td>3427</td>\n",
       "      <td>NaN</td>\n",
       "    </tr>\n",
       "    <tr>\n",
       "      <th>1</th>\n",
       "      <td>0</td>\n",
       "      <td>1</td>\n",
       "      <td>20</td>\n",
       "      <td>4f51205475678f5a124bc76b2c54163bf8eaa7eb</td>\n",
       "      <td>3a1fe01360ff8100e7d006b83b77a3e4c01d928c</td>\n",
       "      <td>windows_chrome</td>\n",
       "      <td>171.36.92.*</td>\n",
       "      <td>238</td>\n",
       "      <td>239</td>\n",
       "      <td>1.0</td>\n",
       "      <td>...</td>\n",
       "      <td>250</td>\n",
       "      <td>FourthView</td>\n",
       "      <td>Na</td>\n",
       "      <td>0</td>\n",
       "      <td>10722</td>\n",
       "      <td>294</td>\n",
       "      <td>23</td>\n",
       "      <td>NaN</td>\n",
       "      <td>2821</td>\n",
       "      <td>NaN</td>\n",
       "    </tr>\n",
       "    <tr>\n",
       "      <th>2</th>\n",
       "      <td>0</td>\n",
       "      <td>3</td>\n",
       "      <td>13</td>\n",
       "      <td>b604e3fd054a658ab7ced4285ebf2ef54d2bd890</td>\n",
       "      <td>801d18a056b6fe6b06a794aef17fb0d6daff2414</td>\n",
       "      <td>windows_ie</td>\n",
       "      <td>59.46.106.*</td>\n",
       "      <td>40</td>\n",
       "      <td>41</td>\n",
       "      <td>2.0</td>\n",
       "      <td>...</td>\n",
       "      <td>250</td>\n",
       "      <td>2</td>\n",
       "      <td>0</td>\n",
       "      <td>5</td>\n",
       "      <td>798b2d49952d77f1eace9f23c210d0b5</td>\n",
       "      <td>238</td>\n",
       "      <td>24</td>\n",
       "      <td>0f951a030abdaedd733ee8d114ce2944</td>\n",
       "      <td>3427</td>\n",
       "      <td>10052,10006,13866,10110</td>\n",
       "    </tr>\n",
       "  </tbody>\n",
       "</table>\n",
       "<p>3 rows × 25 columns</p>\n",
       "</div>"
      ],
      "text/plain": [
       "   click  weekday  hour                                     bidid  \\\n",
       "0      0        5    22  b7bea80521fdecd95d2d761a38c91c3f09618066   \n",
       "1      0        1    20  4f51205475678f5a124bc76b2c54163bf8eaa7eb   \n",
       "2      0        3    13  b604e3fd054a658ab7ced4285ebf2ef54d2bd890   \n",
       "\n",
       "                                     userid       useragent            IP  \\\n",
       "0  2e880fb7d690cf7377b2e42e701728e3f3c0e4c1      windows_ie  125.37.175.*   \n",
       "1  3a1fe01360ff8100e7d006b83b77a3e4c01d928c  windows_chrome   171.36.92.*   \n",
       "2  801d18a056b6fe6b06a794aef17fb0d6daff2414      windows_ie   59.46.106.*   \n",
       "\n",
       "   region  city  adexchange           ...            slotheight  \\\n",
       "0       2     2         2.0           ...                   200   \n",
       "1     238   239         1.0           ...                   250   \n",
       "2      40    41         2.0           ...                   250   \n",
       "\n",
       "  slotvisibility  slotformat slotprice                          creative  \\\n",
       "0              2           0         5  a4f763f78ef3eedfe614263b94a8924e   \n",
       "1     FourthView          Na         0                             10722   \n",
       "2              2           0         5  798b2d49952d77f1eace9f23c210d0b5   \n",
       "\n",
       "   bidprice payprice                           keypage  advertiser  \\\n",
       "0       238        5  0f951a030abdaedd733ee8d114ce2944        3427   \n",
       "1       294       23                               NaN        2821   \n",
       "2       238       24  0f951a030abdaedd733ee8d114ce2944        3427   \n",
       "\n",
       "                   usertag  \n",
       "0                      NaN  \n",
       "1                      NaN  \n",
       "2  10052,10006,13866,10110  \n",
       "\n",
       "[3 rows x 25 columns]"
      ]
     },
     "execution_count": 17,
     "metadata": {},
     "output_type": "execute_result"
    }
   ],
   "source": [
    "train_data = train_data.loc[train_data['bidprice'] > train_data['payprice']]\n",
    "train_data['adexchange'] = train_data['adexchange'].fillna(0)\n",
    "train_data.head(3)"
   ]
  },
  {
   "cell_type": "code",
   "execution_count": 18,
   "metadata": {},
   "outputs": [
    {
     "name": "stdout",
     "output_type": "stream",
     "text": [
      "baseline\n",
      "data click mean 0.001\n"
     ]
    }
   ],
   "source": [
    "print(\"baseline\")\n",
    "print(\"data click mean %.3f\" % train_data['click'].mean())"
   ]
  },
  {
   "cell_type": "code",
   "execution_count": 19,
   "metadata": {},
   "outputs": [
    {
     "data": {
      "text/plain": [
       "0    0.999265\n",
       "1    0.000735\n",
       "Name: click, dtype: float64"
      ]
     },
     "execution_count": 19,
     "metadata": {},
     "output_type": "execute_result"
    }
   ],
   "source": [
    "train_data['click'].value_counts()/len(train_data)"
   ]
  },
  {
   "cell_type": "code",
   "execution_count": 20,
   "metadata": {},
   "outputs": [
    {
     "data": {
      "text/plain": [
       "0    2426443\n",
       "1       1785\n",
       "Name: click, dtype: int64"
      ]
     },
     "execution_count": 20,
     "metadata": {},
     "output_type": "execute_result"
    }
   ],
   "source": [
    "train_data['click'].value_counts()"
   ]
  },
  {
   "cell_type": "code",
   "execution_count": 21,
   "metadata": {},
   "outputs": [
    {
     "data": {
      "text/plain": [
       "1    1785\n",
       "0    1785\n",
       "Name: click, dtype: int64"
      ]
     },
     "execution_count": 21,
     "metadata": {},
     "output_type": "execute_result"
    }
   ],
   "source": [
    "'''Because there is such a huge disparity between non-clicks vs clicks, we'll perform a:\n",
    "Negative downsampling (imbalanced): different samples sizes are used in this procedure. \n",
    "In all these samples all the observations from the minority class are kept and \n",
    "we take different number of observations from the majority class by performing sampling without replacement.\n",
    "'''\n",
    "# Separate majority and minority classes\n",
    "train_data_majority = train_data[train_data.click==0]\n",
    "train_data_minority = train_data[train_data.click==1]\n",
    " \n",
    "# Downsample majority class\n",
    "df_majority_downsampled = resample(train_data_majority, \n",
    "                                 replace=False,    # sample without replacement\n",
    "                                 n_samples=1785,     # to match minority class\n",
    "                                 random_state=123) # reproducible results\n",
    " \n",
    "# Combine minority class with downsampled majority class\n",
    "train_data = pd.concat([df_majority_downsampled, train_data_minority])\n",
    " \n",
    "# Display new class counts\n",
    "train_data.click.value_counts()"
   ]
  },
  {
   "cell_type": "code",
   "execution_count": 22,
   "metadata": {},
   "outputs": [
    {
     "data": {
      "text/html": [
       "<div>\n",
       "<style scoped>\n",
       "    .dataframe tbody tr th:only-of-type {\n",
       "        vertical-align: middle;\n",
       "    }\n",
       "\n",
       "    .dataframe tbody tr th {\n",
       "        vertical-align: top;\n",
       "    }\n",
       "\n",
       "    .dataframe thead th {\n",
       "        text-align: right;\n",
       "    }\n",
       "</style>\n",
       "<table border=\"1\" class=\"dataframe\">\n",
       "  <thead>\n",
       "    <tr style=\"text-align: right;\">\n",
       "      <th></th>\n",
       "      <th>mean</th>\n",
       "    </tr>\n",
       "    <tr>\n",
       "      <th>useragent</th>\n",
       "      <th></th>\n",
       "    </tr>\n",
       "  </thead>\n",
       "  <tbody>\n",
       "    <tr>\n",
       "      <th>android_chrome</th>\n",
       "      <td>1.000000</td>\n",
       "    </tr>\n",
       "    <tr>\n",
       "      <th>ios_other</th>\n",
       "      <td>1.000000</td>\n",
       "    </tr>\n",
       "    <tr>\n",
       "      <th>ios_safari</th>\n",
       "      <td>1.000000</td>\n",
       "    </tr>\n",
       "    <tr>\n",
       "      <th>other_other</th>\n",
       "      <td>1.000000</td>\n",
       "    </tr>\n",
       "    <tr>\n",
       "      <th>android_other</th>\n",
       "      <td>0.923077</td>\n",
       "    </tr>\n",
       "    <tr>\n",
       "      <th>android_safari</th>\n",
       "      <td>0.873900</td>\n",
       "    </tr>\n",
       "    <tr>\n",
       "      <th>mac_safari</th>\n",
       "      <td>0.832168</td>\n",
       "    </tr>\n",
       "    <tr>\n",
       "      <th>mac_other</th>\n",
       "      <td>0.800000</td>\n",
       "    </tr>\n",
       "    <tr>\n",
       "      <th>linux_chrome</th>\n",
       "      <td>0.800000</td>\n",
       "    </tr>\n",
       "    <tr>\n",
       "      <th>mac_chrome</th>\n",
       "      <td>0.750000</td>\n",
       "    </tr>\n",
       "    <tr>\n",
       "      <th>windows_other</th>\n",
       "      <td>0.631579</td>\n",
       "    </tr>\n",
       "    <tr>\n",
       "      <th>windows_ie</th>\n",
       "      <td>0.460784</td>\n",
       "    </tr>\n",
       "    <tr>\n",
       "      <th>windows_firefox</th>\n",
       "      <td>0.434783</td>\n",
       "    </tr>\n",
       "    <tr>\n",
       "      <th>windows_maxthon</th>\n",
       "      <td>0.400000</td>\n",
       "    </tr>\n",
       "    <tr>\n",
       "      <th>windows_chrome</th>\n",
       "      <td>0.379913</td>\n",
       "    </tr>\n",
       "    <tr>\n",
       "      <th>windows_theworld</th>\n",
       "      <td>0.294118</td>\n",
       "    </tr>\n",
       "    <tr>\n",
       "      <th>mac_firefox</th>\n",
       "      <td>0.000000</td>\n",
       "    </tr>\n",
       "    <tr>\n",
       "      <th>android_maxthon</th>\n",
       "      <td>0.000000</td>\n",
       "    </tr>\n",
       "    <tr>\n",
       "      <th>windows_opera</th>\n",
       "      <td>0.000000</td>\n",
       "    </tr>\n",
       "  </tbody>\n",
       "</table>\n",
       "</div>"
      ],
      "text/plain": [
       "                      mean\n",
       "useragent                 \n",
       "android_chrome    1.000000\n",
       "ios_other         1.000000\n",
       "ios_safari        1.000000\n",
       "other_other       1.000000\n",
       "android_other     0.923077\n",
       "android_safari    0.873900\n",
       "mac_safari        0.832168\n",
       "mac_other         0.800000\n",
       "linux_chrome      0.800000\n",
       "mac_chrome        0.750000\n",
       "windows_other     0.631579\n",
       "windows_ie        0.460784\n",
       "windows_firefox   0.434783\n",
       "windows_maxthon   0.400000\n",
       "windows_chrome    0.379913\n",
       "windows_theworld  0.294118\n",
       "mac_firefox       0.000000\n",
       "android_maxthon   0.000000\n",
       "windows_opera     0.000000"
      ]
     },
     "execution_count": 22,
     "metadata": {},
     "output_type": "execute_result"
    }
   ],
   "source": [
    "# Determine average click through rate based on useragent\n",
    "useragent_mean = train_data.groupby('useragent')['click'].agg(['mean']).sort_values(['mean'],ascending=False)\n",
    "useragent_mean"
   ]
  },
  {
   "cell_type": "code",
   "execution_count": 23,
   "metadata": {},
   "outputs": [
    {
     "data": {
      "text/html": [
       "<div>\n",
       "<style scoped>\n",
       "    .dataframe tbody tr th:only-of-type {\n",
       "        vertical-align: middle;\n",
       "    }\n",
       "\n",
       "    .dataframe tbody tr th {\n",
       "        vertical-align: top;\n",
       "    }\n",
       "\n",
       "    .dataframe thead th {\n",
       "        text-align: right;\n",
       "    }\n",
       "</style>\n",
       "<table border=\"1\" class=\"dataframe\">\n",
       "  <thead>\n",
       "    <tr style=\"text-align: right;\">\n",
       "      <th></th>\n",
       "      <th>mean</th>\n",
       "    </tr>\n",
       "    <tr>\n",
       "      <th>advertiser</th>\n",
       "      <th></th>\n",
       "    </tr>\n",
       "  </thead>\n",
       "  <tbody>\n",
       "    <tr>\n",
       "      <th>2997</th>\n",
       "      <td>0.878543</td>\n",
       "    </tr>\n",
       "    <tr>\n",
       "      <th>3358</th>\n",
       "      <td>0.528796</td>\n",
       "    </tr>\n",
       "    <tr>\n",
       "      <th>1458</th>\n",
       "      <td>0.514825</td>\n",
       "    </tr>\n",
       "    <tr>\n",
       "      <th>3427</th>\n",
       "      <td>0.483813</td>\n",
       "    </tr>\n",
       "    <tr>\n",
       "      <th>3386</th>\n",
       "      <td>0.476762</td>\n",
       "    </tr>\n",
       "    <tr>\n",
       "      <th>3476</th>\n",
       "      <td>0.457213</td>\n",
       "    </tr>\n",
       "    <tr>\n",
       "      <th>2821</th>\n",
       "      <td>0.445578</td>\n",
       "    </tr>\n",
       "    <tr>\n",
       "      <th>2259</th>\n",
       "      <td>0.302817</td>\n",
       "    </tr>\n",
       "    <tr>\n",
       "      <th>2261</th>\n",
       "      <td>0.274809</td>\n",
       "    </tr>\n",
       "  </tbody>\n",
       "</table>\n",
       "</div>"
      ],
      "text/plain": [
       "                mean\n",
       "advertiser          \n",
       "2997        0.878543\n",
       "3358        0.528796\n",
       "1458        0.514825\n",
       "3427        0.483813\n",
       "3386        0.476762\n",
       "3476        0.457213\n",
       "2821        0.445578\n",
       "2259        0.302817\n",
       "2261        0.274809"
      ]
     },
     "execution_count": 23,
     "metadata": {},
     "output_type": "execute_result"
    }
   ],
   "source": [
    "# Determine average click through rate based on advertiser\n",
    "advertiser_mean = train_data.groupby('advertiser')['click'].agg(['mean']).sort_values(['mean'],ascending=False)\n",
    "advertiser_mean"
   ]
  },
  {
   "cell_type": "code",
   "execution_count": 24,
   "metadata": {},
   "outputs": [],
   "source": [
    "# Determine average click through rate based on pricing of the slot\n",
    "slotprice_mean = train_data.groupby('slotprice')['click'].agg(['mean']).sort_values(['mean'],ascending=False)\n",
    "#slotprice_mean"
   ]
  },
  {
   "cell_type": "code",
   "execution_count": 25,
   "metadata": {},
   "outputs": [
    {
     "data": {
      "text/html": [
       "<div>\n",
       "<style scoped>\n",
       "    .dataframe tbody tr th:only-of-type {\n",
       "        vertical-align: middle;\n",
       "    }\n",
       "\n",
       "    .dataframe tbody tr th {\n",
       "        vertical-align: top;\n",
       "    }\n",
       "\n",
       "    .dataframe thead th {\n",
       "        text-align: right;\n",
       "    }\n",
       "</style>\n",
       "<table border=\"1\" class=\"dataframe\">\n",
       "  <thead>\n",
       "    <tr style=\"text-align: right;\">\n",
       "      <th></th>\n",
       "      <th>mean</th>\n",
       "    </tr>\n",
       "    <tr>\n",
       "      <th>bidprice</th>\n",
       "      <th></th>\n",
       "    </tr>\n",
       "  </thead>\n",
       "  <tbody>\n",
       "    <tr>\n",
       "      <th>277</th>\n",
       "      <td>0.649510</td>\n",
       "    </tr>\n",
       "    <tr>\n",
       "      <th>227</th>\n",
       "      <td>0.572559</td>\n",
       "    </tr>\n",
       "    <tr>\n",
       "      <th>254</th>\n",
       "      <td>0.525510</td>\n",
       "    </tr>\n",
       "    <tr>\n",
       "      <th>300</th>\n",
       "      <td>0.496806</td>\n",
       "    </tr>\n",
       "    <tr>\n",
       "      <th>241</th>\n",
       "      <td>0.494845</td>\n",
       "    </tr>\n",
       "    <tr>\n",
       "      <th>238</th>\n",
       "      <td>0.421053</td>\n",
       "    </tr>\n",
       "    <tr>\n",
       "      <th>294</th>\n",
       "      <td>0.399015</td>\n",
       "    </tr>\n",
       "    <tr>\n",
       "      <th>249</th>\n",
       "      <td>0.336634</td>\n",
       "    </tr>\n",
       "  </tbody>\n",
       "</table>\n",
       "</div>"
      ],
      "text/plain": [
       "              mean\n",
       "bidprice          \n",
       "277       0.649510\n",
       "227       0.572559\n",
       "254       0.525510\n",
       "300       0.496806\n",
       "241       0.494845\n",
       "238       0.421053\n",
       "294       0.399015\n",
       "249       0.336634"
      ]
     },
     "execution_count": 25,
     "metadata": {},
     "output_type": "execute_result"
    }
   ],
   "source": [
    "# Determine average click through rate based on pricing bidding\n",
    "bidprice_mean = train_data.groupby('bidprice')['click'].agg(['mean']).sort_values(['mean'],ascending=False)\n",
    "bidprice_mean"
   ]
  },
  {
   "cell_type": "code",
   "execution_count": 26,
   "metadata": {},
   "outputs": [
    {
     "data": {
      "image/png": "[encoded data removed]",
      "text/plain": [
       "<Figure size 432x288 with 1 Axes>"
      ]
     },
     "metadata": {
      "needs_background": "light"
     },
     "output_type": "display_data"
    }
   ],
   "source": [
    "fig, ax = plt.subplots()\n",
    "train_data.groupby('bidprice')['click'].agg(['mean']).plot(ax=ax, c='red', label='unclicked')\n",
    "plt.show()"
   ]
  },
  {
   "cell_type": "code",
   "execution_count": 27,
   "metadata": {},
   "outputs": [
    {
     "data": {
      "image/png": "[encoded data removed]",
      "text/plain": [
       "<Figure size 432x288 with 1 Axes>"
      ]
     },
     "metadata": {
      "needs_background": "light"
     },
     "output_type": "display_data"
    }
   ],
   "source": [
    "unclick_ad = train_data.loc[train_data['click'] ==0]\n",
    "clicked_ad = train_data.loc[train_data['click'] ==1]\n",
    "\n",
    "fig, ax = plt.subplots()\n",
    "unclick_ad.groupby('bidprice')['click'].agg(['count']).plot(ax=ax, c='red', label='unclicked')\n",
    "clicked_ad.groupby('bidprice')['click'].agg(['count']).plot(ax=ax, c='blue', label='clicked')\n",
    "\n",
    "L = plt.legend()\n",
    "L.get_texts()[0].set_text('Unclicked')\n",
    "L.get_texts()[1].set_text('Clicked')\n",
    "\n",
    "plt.show()\n"
   ]
  },
  {
   "cell_type": "code",
   "execution_count": 28,
   "metadata": {},
   "outputs": [],
   "source": [
    "# create a dataframe from this df \n",
    "# that includes all the features we want to test\n",
    "\n",
    "#headers: \n",
    "\n",
    "model_df = train_data[\n",
    "['click',\n",
    " 'weekday',\n",
    " 'hour',\n",
    " #'bidid',\n",
    " #'userid',\n",
    " #'useragent',\n",
    " #'IP',\n",
    " 'region',\n",
    " 'city',\n",
    " 'adexchange',\n",
    " #'domain',\n",
    " #'url',\n",
    " #'urlid',\n",
    " #'slotid',\n",
    " 'slotwidth',\n",
    " 'slotheight',\n",
    " #'slotvisibility',\n",
    " #'slotformat',\n",
    " 'slotprice',\n",
    " #'creative',\n",
    " 'bidprice',\n",
    " 'payprice',\n",
    " #'keypage',\n",
    " 'advertiser',\n",
    " #'usertag'\n",
    "]]\n",
    "\n",
    "#model_df['keypage'] =model_df['keypage'].astype(str)\n",
    "#categorical_columns = ['useragent','slotvisibility', 'slotformat', 'keypage']\n",
    "\n",
    "#categorical_columns = ['keypage']\n",
    "\n",
    "\n",
    "#model_df = generate_ohe(model_df, categorical_columns)\n",
    "#model_df"
   ]
  },
  {
   "cell_type": "code",
   "execution_count": 29,
   "metadata": {},
   "outputs": [],
   "source": [
    "def generate_ohe(df, col_list):\n",
    "    for col in col_list:\n",
    "        gen_ohe = OneHotEncoder()\n",
    "        gen_feature_arr = gen_ohe.fit_transform(model_df[[col]]).toarray()\n",
    "        gen_feature_labels = list(gen_le.classes_)\n",
    "        gen_features = pd.DataFrame(gen_feature_arr, columns=gen_feature_labels)\n",
    "        df= pd.concat([df, gen_features], axis=1)\n",
    "    return df                                           "
   ]
  },
  {
   "cell_type": "code",
   "execution_count": 30,
   "metadata": {},
   "outputs": [
    {
     "name": "stdout",
     "output_type": "stream",
     "text": [
      "[1.068e-01 5.925e+01 1.527e+02 1.569e+02 3.616e+01 6.699e+02 7.218e+02\n",
      " 3.947e+02 1.497e+00 6.071e+03 7.681e+01]\n",
      "[[  34.  320.   50.    5.  128.]\n",
      " [   5.  300.  250.   31.   33.]\n",
      " [  83.  120.  600.  180.  180.]\n",
      " ...\n",
      " [ 167.  160.  600.    0.   18.]\n",
      " [   5.  300.  250.    0.  127.]\n",
      " [   1. 1000.   90.   70.   70.]]\n"
     ]
    }
   ],
   "source": [
    "array = model_df.values\n",
    "X = array[:,1:len(train_data.columns)]\n",
    "y = array[:,0]\n",
    "test = SelectKBest(score_func=chi2, k=5)\n",
    "fit = test.fit(X, y)\n",
    "np.set_printoptions(precision=3)\n",
    "print(fit.scores_)\n",
    "features = fit.transform(X)\n",
    "# summarize selected features\n",
    "print(features)"
   ]
  },
  {
   "cell_type": "code",
   "execution_count": 31,
   "metadata": {},
   "outputs": [
    {
     "name": "stdout",
     "output_type": "stream",
     "text": [
      "Top features include: city, payprice, weekday, slotheight, bidprice\n"
     ]
    }
   ],
   "source": [
    "top_feat = list(np.argsort(fit.scores_))\n",
    "print(\"Top features include: %s, %s, %s, %s, %s\" %   \n",
    "      (model_df.columns[top_feat.index(10)], model_df.columns[top_feat.index(9)],\n",
    "       model_df.columns[top_feat.index(8)], model_df.columns[top_feat.index(7)], \n",
    "       model_df.columns[top_feat.index(6)]))\n"
   ]
  }
 ],
 "metadata": {
  "kernelspec": {
   "display_name": "Python 3",
   "language": "python",
   "name": "python3"
  },
  "language_info": {
   "codemirror_mode": {
    "name": "ipython",
    "version": 3
   },
   "file_extension": ".py",
   "mimetype": "text/x-python",
   "name": "python",
   "nbconvert_exporter": "python",
   "pygments_lexer": "ipython3",
   "version": "3.7.1"
  }
 },
 "nbformat": 4,
 "nbformat_minor": 2
}
