{
 "cells": [
  {
   "cell_type": "code",
   "execution_count": 52,
   "metadata": {},
   "outputs": [],
   "source": [
    "#packages import\n",
    "import pandas as pd\n",
    "import numpy as np\n",
    "import matplotlib.pyplot as plt\n",
    "import sklearn\n",
    "import seaborn as sns\n",
    "import matplotlib\n",
    "from matplotlib import pyplot as plt\n",
    "import pickle\n",
    "from sklearn.linear_model import LogisticRegression\n",
    "import warnings\n",
    "warnings.filterwarnings('always')  #\"error\", \"ignore\", \"always\", \"default\", \"module\" or \"once\"\n",
    "import os\n",
    "os.environ['KMP_DUPLICATE_LIB_OK']='True'\n",
    "import xgboost as xgb\n",
    "from sklearn.metrics import mean_squared_error\n",
    "from sklearn.metrics import roc_auc_score\n",
    "from sklearn.metrics import accuracy_score\n",
    "from sklearn.feature_selection import RFECV\n",
    "from sklearn.model_selection import StratifiedKFold\n",
    "import itertools\n",
    "import random"
   ]
  },
  {
   "cell_type": "code",
   "execution_count": 40,
   "metadata": {},
   "outputs": [],
   "source": [
    "#dataset import\n",
    "test_data = pd.read_csv(\"test.csv\")\n",
    "train_data = pd.read_csv(\"train.csv\")\n",
    "train_data.reset_index(drop=True, inplace=True)\n",
    "validation_data = pd.read_csv(\"validation.csv\")\n",
    "validation_data.reset_index(drop=True, inplace=True)"
   ]
  },
  {
   "cell_type": "code",
   "execution_count": 41,
   "metadata": {},
   "outputs": [],
   "source": [
    "#get imps\n",
    "train_data['imps']=0\n",
    "train_data.loc[(train_data.bidprice>train_data.payprice),'imps'] = 1\n",
    "validation_data['imps']=0\n",
    "validation_data.loc[(validation_data.bidprice>validation_data.payprice),'imps'] = 1\n",
    "#get os and browser\n",
    "train_data['os']=train_data.useragent.apply(lambda x: x.split('_')[0])\n",
    "train_data['browser']=train_data.useragent.apply(lambda x: x.split('_')[1])\n",
    "#get slot size\n",
    "train_data['slotsize']=train_data['slotwidth']*train_data['slotheight']"
   ]
  },
  {
   "cell_type": "code",
   "execution_count": 42,
   "metadata": {},
   "outputs": [],
   "source": [
    "#negative downsampling on training dataset\n",
    "from sklearn.utils import resample\n",
    "# Separate majority and minority classes\n",
    "train_data_majority = train_data[train_data.click==0]\n",
    "train_data_minority = train_data[train_data.click==1]\n",
    "# Downsample majority class\n",
    "df_majority_downsampled = resample(train_data_majority, \n",
    "                                 replace=False,    # sample without replacement\n",
    "                                 n_samples=20000,     # to match minority class\n",
    "                                 random_state=123) # reproducible results\n",
    "# Combine minority class with downsampled majority class\n",
    "train_downsampled = pd.concat([df_majority_downsampled, train_data_minority])\n",
    "train_downsampled.reset_index(drop=True, inplace=True)\n",
    "\n"
   ]
  },
  {
   "cell_type": "markdown",
   "metadata": {},
   "source": [
    "# Data Cleaning"
   ]
  },
  {
   "cell_type": "code",
   "execution_count": 43,
   "metadata": {},
   "outputs": [],
   "source": [
    "#Further data cleaning and feature engineering process include removing case specific features, \n",
    "#creating frequency and ctr features for all categorical feature, and keeping the continuous data                \n",
    "def CleanDF(df):\n",
    "    #remove highly case-specific features:bidid, userid,IP,domain,url,urlid,slotid\n",
    "    df.drop(['bidid', 'userid', 'IP', 'domain', 'url', 'urlid', \n",
    "             'slotid'], axis = 1, inplace = True)\n",
    "    #create frequency and ctr feature for categorical features: \n",
    "    #weekday, hour, os, browser,region,city,adexchange,slotvisibility, creative,keypage,advertiser, usertag, slotformat\n",
    "    \n",
    "\n",
    "    #extract os and browser info \n",
    "    df['os']=df.useragent.apply(lambda x: x.split('_')[0])\n",
    "    df['browser']=df.useragent.apply(lambda x: x.split('_')[1])\n",
    "    #get slot size\n",
    "    df['slotsize']=df['slotwidth']*df['slotheight']\n",
    "    \n",
    "\n",
    "    \n",
    "    #create frequency features\n",
    "    def get_freq(df,column):\n",
    "        item_list=train_data[column].unique()\n",
    "        freq_list=[]\n",
    "        for item in item_list:\n",
    "            freq=len(train_data[train_data[column]==item])/len(train_data)\n",
    "            freq_list.append(freq)\n",
    "        fre_col=str(column)+'_freq'\n",
    "        def corresponding_value(x):\n",
    "            for i in range(len(item_list)):\n",
    "                if x==item_list[i]:\n",
    "                    return freq_list[i]\n",
    "        df[fre_col]=df[column].apply(corresponding_value)\n",
    "    get_freq(df,'weekday')\n",
    "    get_freq(df,'hour')\n",
    "    get_freq(df,'os')\n",
    "    get_freq(df,'browser')\n",
    "    get_freq(df,'region')\n",
    "    get_freq(df,'city')\n",
    "    get_freq(df,'adexchange')\n",
    "    get_freq(df,'slotvisibility')\n",
    "    get_freq(df,'slotformat')\n",
    "    get_freq(df,'creative')\n",
    "    get_freq(df,'keypage')\n",
    "    get_freq(df,'advertiser')\n",
    "\n",
    "    \n",
    "    #create ctr features\n",
    "    def get_ctr(df,column):\n",
    "        item_list=train_data[column].unique()\n",
    "        ctr_list=[]\n",
    "        for item in item_list:\n",
    "            if sum(train_data[train_data[column]==item]['imps'])!=0:\n",
    "                ctr=sum(train_data[train_data[column]==item]['click'])/sum(train_data[train_data[column]==item]['imps'])\n",
    "            else:\n",
    "                ctr=0\n",
    "            ctr_list.append(ctr)\n",
    "        ctr_col=str(column)+'_ctr'\n",
    "        def corresponding_value(x):\n",
    "            for i in range(len(item_list)):\n",
    "                if x==item_list[i]:\n",
    "                    return ctr_list[i]\n",
    "        df[ctr_col]=df[column].apply(corresponding_value)  \n",
    "    get_ctr(df,'weekday')\n",
    "    get_ctr(df,'hour')\n",
    "    get_ctr(df,'os')\n",
    "    get_ctr(df,'browser')\n",
    "    get_ctr(df,'region')\n",
    "    get_ctr(df,'city')\n",
    "    get_ctr(df,'adexchange')\n",
    "    get_ctr(df,'slotvisibility')\n",
    "    get_ctr(df,'slotformat')\n",
    "    get_ctr(df,'creative')\n",
    "    get_ctr(df,'keypage')\n",
    "    get_ctr(df,'advertiser')    \n",
    "\n",
    "    return df\n",
    "\n"
   ]
  },
  {
   "cell_type": "code",
   "execution_count": 59,
   "metadata": {},
   "outputs": [],
   "source": [
    "def get_usertag():\n",
    "    train_data['usertag']=train_data['usertag'].fillna('0')\n",
    "    cate=train_data['usertag'].str.split(',')\n",
    "    train_data['usertag_split']=cate.apply(lambda x: [int(item) for item in x])\n",
    "    usertag_list=[train_data['usertag'][i].split(\",\") for i in range(df.shape[0])]\n",
    "    unique_list=[]\n",
    "    unique_list=np.unique(list(itertools.chain.from_iterable(usertag_list))) \n",
    "    unique_list=[int(item) for item in unique_list]\n",
    "    return unique_list\n",
    "\n",
    "def UR_data(df):\n",
    "    def get_freq_usertag(df):\n",
    "        #usertag data cleaning\n",
    "        df['usertag']=df['usertag'].fillna('0')\n",
    "        cate=df['usertag'].str.split(',')\n",
    "        df['usertag_split']=cate.apply(lambda x: [int(item) for item in x])\n",
    "        #get list of all unique usertag\n",
    "        column='usertag_split'\n",
    "        #get_freq\n",
    "        item_list=get_usertag()\n",
    "        freq_list=[]\n",
    "        for item in item_list:\n",
    "            freq=len(train_data[[item in row for row in train_data[column]]])/len(train_data)\n",
    "            freq_list.append(freq)\n",
    "        fre_col=str(column)+'_freq'\n",
    "        def corresponding_value(x):\n",
    "            for j in x:\n",
    "                row_value=0\n",
    "                for i in range(len(item_list)):\n",
    "                    if item_list[i] in x:\n",
    "                         row_value+=freq_list[i]\n",
    "            return row_value\n",
    "        df[fre_col]=df[column].apply(corresponding_value)  \n",
    "    get_freq_usertag(df)\n",
    "    def get_ctr_usertag(df):\n",
    "        #usertag data cleaning\n",
    "        df['usertag']=df['usertag'].fillna('0')\n",
    "        cate=df['usertag'].str.split(',')\n",
    "        df['usertag_split']=cate.apply(lambda x: [int(item) for item in x])\n",
    "        df['usertag_split']=cate.apply(lambda x: [int(item) for item in x])\n",
    "        column='usertag_split'\n",
    "        #get list of all unique usertag \n",
    "        column='usertag_split'\n",
    "        #get_ctr\n",
    "        item_list=get_usertag()\n",
    "        ctr_list=[]\n",
    "        for item in item_list:\n",
    "            c=sum(train_data[[item in row for row in train_data[column]]].click)\n",
    "            im=sum(train_data[[item in row for row in train_data[column]]].imps)\n",
    "            if im!=0:\n",
    "                ctr=c/im\n",
    "            else:\n",
    "                ctr=0\n",
    "            ctr_list.append(ctr)\n",
    "            col_name = \"usertag_ctr\" + str(item)\n",
    "            df[col_name] = df[\"usertag\"].map(lambda x: ctr if item in x.split(\",\") else 0) \n",
    "    get_ctr_usertag(df)\n",
    "    return df"
   ]
  },
  {
   "cell_type": "code",
   "execution_count": 130,
   "metadata": {},
   "outputs": [],
   "source": [
    "#generate binary features\n",
    "def UsertagCategories(df):\n",
    "    \n",
    "    # Drop nan\n",
    "    df = df[\"usertag\"].dropna().reset_index(drop = True)\n",
    "    \n",
    "    # Find unique usertags\n",
    "    usertags_list = [df[i].split(\",\") for i in range(df.shape[0])]\n",
    "    \n",
    "    # itertools.chain.from_iterable joins a list of lists into a single list\n",
    "    usertags = np.unique(list(itertools.chain.from_iterable(usertags_list)))\n",
    "    \n",
    "    # Remove the empty string \"\"\n",
    "    usertags = [tag for tag in usertags if len(tag) > 0]\n",
    "    \n",
    "    return usertags\n",
    "\n",
    "def FeatureEngineering(df): \n",
    "\n",
    "    # Usertags\n",
    "    usertags = UsertagCategories(df)\n",
    "    for tag in usertags:\n",
    "        col_name = \"usertag_\" + tag\n",
    "        df[col_name] = df[\"usertag\"].map(lambda x: 1 if tag in x.split(\",\") else 0)\n",
    "\n",
    "    # Slotprice binning\n",
    "    df[\"slotprice_cat\"] = 0\n",
    "\n",
    "    df.loc[ df[\"slotprice\"] <= 10, \"slotprice_cat\"] = 0\n",
    "    df.loc[ (df[\"slotprice\"] > 10) & (df[\"slotprice\"] <= 50), \"slotprice_cat\"] = 1\n",
    "    df.loc[ (df[\"slotprice\"] > 50) & (df[\"slotprice\"] <= 100), \"slotprice_cat\"] = 2\n",
    "    df.loc[ df[\"slotprice\"] > 100, \"slotprice_cat\"] = 3\n",
    "\n",
    "\n",
    "\n",
    "    # Convert numerical to categorical\n",
    "    df[\"weekday_cat\"] = df[\"weekday\"].map(lambda x: str(x))\n",
    "    df[\"hour_cat\"] = df[\"hour\"].map(lambda x: str(x))\n",
    "    df[\"region_cat\"] = df[\"region\"].map(lambda x: str(x))\n",
    "    df[\"city_cat\"] = df[\"city\"].map(lambda x: str(x))\n",
    "    df[\"adexchange_cat\"] = df[\"adexchange\"].map(lambda x: str(x))\n",
    "    df[\"advertiser_cat\"] = df[\"advertiser\"].map(lambda x: str(x))\n",
    "    \n",
    "    def get_dummy(col):\n",
    "        list_col=df[col].unique()\n",
    "        for item in list_col:\n",
    "            col_name=str(col)+'_'+str(item)\n",
    "            df[col_name]=df[col].map(lambda x: 1 if item==x  else 0)\n",
    "    cols = [\"weekday_cat\", \"hour_cat\", \"hour_cat\", \"region_cat\", \"city_cat\", \"adexchange_cat\", \"advertiser_cat\",\"slotprice_cat\",'os','browser']\n",
    "    for item in cols:\n",
    "        get_dummy(item)\n",
    "\n",
    "\n",
    "    return df"
   ]
  },
  {
   "cell_type": "code",
   "execution_count": 76,
   "metadata": {},
   "outputs": [],
   "source": [
    "def drop_features(df):\n",
    "    columns = ['creative','slotformat','slotvisibility',\"useragent\", \"weekday\", \"keypage\", \"usertag\", \"region\", \"city\", \"adexchange\", \"advertiser\",'hour','os','browser','usertag_split','weekday_cat','slotprice_cat','hour_cat','region_cat','city_cat','adexchange_cat','advertiser_cat']\n",
    "    df.drop(columns, axis = 1, inplace = True)\n",
    "    df=df.fillna(0)\n",
    "    return df"
   ]
  },
  {
   "cell_type": "code",
   "execution_count": 45,
   "metadata": {},
   "outputs": [],
   "source": [
    "#implement\n",
    "validation_features_v1=CleanDF(validation_data)\n",
    "train_features_v1=CleanDF(train_downsampled)\n",
    "test_features_v1=CleanDF(test_data)"
   ]
  },
  {
   "cell_type": "code",
   "execution_count": 60,
   "metadata": {},
   "outputs": [],
   "source": [
    "validation_features_v2=UR_data(validation_features_v1)\n",
    "train_features_v2=UR_data(train_features_v1)\n",
    "test_features_v2=UR_data(test_features_v1)"
   ]
  },
  {
   "cell_type": "code",
   "execution_count": 131,
   "metadata": {},
   "outputs": [],
   "source": [
    "validation_features_v3=FeatureEngineering(validation_features_v2)\n",
    "train_features_v3=FeatureEngineering(train_features_v2)\n",
    "test_features_v3=FeatureEngineering(test_features_v1)"
   ]
  },
  {
   "cell_type": "code",
   "execution_count": 135,
   "metadata": {},
   "outputs": [],
   "source": [
    "validation_features_v4=drop_features(validation_features_v3)\n",
    "train_features_v4=drop_features(train_features_v3)\n",
    "test_features_v4=drop_features(test_features_v3)"
   ]
  },
  {
   "cell_type": "markdown",
   "metadata": {},
   "source": [
    "# Feature Selection for different pCTR"
   ]
  },
  {
   "cell_type": "code",
   "execution_count": 156,
   "metadata": {},
   "outputs": [],
   "source": [
    "X_train_X = train_features_v4.loc[:, ((train_features_v4.columns != \"click\") & \n",
    "                      (train_features_v4.columns != \"payprice\") &\n",
    "                      (train_features_v4.columns != \"bidprice\")&\n",
    "                      (train_features_v4.columns != \"imps\"))]\n",
    "y_train_X = train_features_v4[\"click\"]\n",
    "\n",
    "X_validation_X = validation_features_v4.loc[:, ((validation_features_v4.columns != \"click\") & \n",
    "                                        (validation_features_v4.columns != \"payprice\") & \n",
    "                                        (validation_features_v4.columns != \"bidprice\")&\n",
    "                                        (validation_features_v4.columns != \"imps\"))]\n",
    "y_validation_X = validation_features_v4[\"click\"]\n",
    "\n",
    "X_test_X=test_features_v4"
   ]
  },
  {
   "cell_type": "code",
   "execution_count": 171,
   "metadata": {},
   "outputs": [],
   "source": [
    "X_train_X=X_train_X.fillna(0)\n",
    "X_validation_X_X=X_validation_X.fillna(0)\n",
    "X_test_X=X_test_X.fillna(0)"
   ]
  },
  {
   "cell_type": "code",
   "execution_count": 172,
   "metadata": {},
   "outputs": [
    {
     "name": "stderr",
     "output_type": "stream",
     "text": [
      "/Users/Azzurro/anaconda3/lib/python3.7/site-packages/ipykernel_launcher.py:4: ResourceWarning: unclosed file <_io.BufferedWriter name='X_train_features_X.pkl'>\n",
      "  after removing the cwd from sys.path.\n",
      "/Users/Azzurro/anaconda3/lib/python3.7/site-packages/ipykernel_launcher.py:5: ResourceWarning: unclosed file <_io.BufferedWriter name='y_train_features_X.pkl'>\n",
      "  \"\"\"\n",
      "/Users/Azzurro/anaconda3/lib/python3.7/site-packages/ipykernel_launcher.py:8: ResourceWarning: unclosed file <_io.BufferedWriter name='X_validation_features_X.pkl'>\n",
      "  \n",
      "/Users/Azzurro/anaconda3/lib/python3.7/site-packages/ipykernel_launcher.py:9: ResourceWarning: unclosed file <_io.BufferedWriter name='y_validation_features_X.pkl'>\n",
      "  if __name__ == '__main__':\n",
      "/Users/Azzurro/anaconda3/lib/python3.7/site-packages/ipykernel_launcher.py:12: ResourceWarning: unclosed file <_io.BufferedWriter name='X_test_features_X.pkl'>\n",
      "  if sys.path[0] == '':\n"
     ]
    }
   ],
   "source": [
    "#save the down\n",
    "\n",
    "#Pickled Train\n",
    "pickle.dump(X_train_X, open(\"X_train_features_X.pkl\", 'wb'))\n",
    "pickle.dump(y_train_X, open(\"y_train_features_X.pkl\", 'wb'))\n",
    "\n",
    "#Pickled Validation\n",
    "pickle.dump(X_validation_X, open(\"X_validation_features_X.pkl\", 'wb'))\n",
    "pickle.dump(y_validation_X, open(\"y_validation_features_X.pkl\", 'wb'))\n",
    "\n",
    "#Pickled Test\n",
    "pickle.dump(X_test_X, open(\"X_test_features_X.pkl\", 'wb'))"
   ]
  },
  {
   "cell_type": "markdown",
   "metadata": {},
   "source": [
    "# XGBOOST"
   ]
  },
  {
   "cell_type": "code",
   "execution_count": 165,
   "metadata": {},
   "outputs": [],
   "source": [
    "xgb_clf = xgb.XGBClassifier(objective='binary:logistic', colsample_bytree = 0.2, learning_rate = 0.1,\n",
    "              max_depth = 5, alpha = 10, n_estimators = 500, random_state = 123)"
   ]
  },
  {
   "cell_type": "code",
   "execution_count": 166,
   "metadata": {},
   "outputs": [
    {
     "data": {
      "text/plain": [
       "RFECV(cv=StratifiedKFold(n_splits=2, random_state=None, shuffle=False),\n",
       "   estimator=XGBClassifier(alpha=10, base_score=0.5, booster='gbtree', colsample_bylevel=1,\n",
       "       colsample_bytree=0.2, gamma=0, learning_rate=0.1, max_delta_step=0,\n",
       "       max_depth=5, min_child_weight=1, missing=None, n_estimators=500,\n",
       "       n_jobs=1, nthread=None, objective='binary:logistic',\n",
       "       random_state=123, reg_alpha=0, reg_lambda=1, scale_pos_weight=1,\n",
       "       seed=None, silent=True, subsample=1),\n",
       "   min_features_to_select=1, n_jobs=None, scoring='roc_auc', step=10,\n",
       "   verbose=0)"
      ]
     },
     "execution_count": 166,
     "metadata": {},
     "output_type": "execute_result"
    }
   ],
   "source": [
    "# Initialize Recursive Feature Elimination object\n",
    "stepsize = 10\n",
    "rfecv = RFECV(estimator = xgb_clf, step = stepsize, cv = StratifiedKFold(n_splits = 2), scoring='roc_auc')\n",
    "rfecv.fit(X_train_X, y_train_X)"
   ]
  },
  {
   "cell_type": "code",
   "execution_count": 173,
   "metadata": {},
   "outputs": [
    {
     "name": "stdout",
     "output_type": "stream",
     "text": [
      "Selecting the 86 best features, which include\n",
      "['slotwidth', 'slotheight', 'slotprice', 'slotsize', 'weekday_freq', 'hour_freq', 'os_freq', 'browser_freq', 'region_freq', 'city_freq', 'adexchange_freq', 'slotvisibility_freq', 'slotformat_freq', 'creative_freq', 'keypage_freq', 'advertiser_freq', 'weekday_ctr', 'hour_ctr', 'os_ctr', 'browser_ctr', 'region_ctr', 'city_ctr', 'adexchange_ctr', 'slotvisibility_ctr', 'slotformat_ctr', 'creative_ctr', 'keypage_ctr', 'advertiser_ctr', 'usertag_split_freq', 'usertag_0', 'usertag_10006', 'usertag_10024', 'usertag_10031', 'usertag_10048', 'usertag_10052', 'usertag_10057', 'usertag_10059', 'usertag_10063', 'usertag_10075', 'usertag_10076', 'usertag_10077', 'usertag_10083', 'usertag_10110', 'usertag_10111', 'usertag_10133', 'usertag_10684', 'usertag_11092', 'usertag_11278', 'usertag_13042', 'usertag_13403', 'usertag_13496', 'usertag_13776', 'usertag_13800', 'usertag_13866', 'usertag_14273', 'usertag_16706', 'weekday_cat_5', 'weekday_cat_0', 'weekday_cat_4', 'weekday_cat_6', 'weekday_cat_3', 'weekday_cat_1', 'hour_cat_23', 'hour_cat_19', 'hour_cat_0', 'hour_cat_18', 'hour_cat_14', 'region_cat_216', 'region_cat_94', 'region_cat_164', 'city_cat_75', 'city_cat_90', 'adexchange_cat_1.0', 'adexchange_cat_3.0', 'adexchange_cat_2.0', 'advertiser_cat_3427', 'advertiser_cat_3476', 'advertiser_cat_3386', 'advertiser_cat_3358', 'slotprice_cat_0', 'slotprice_cat_1', 'slotprice_cat_2', 'os_mac', 'browser_chrome', 'browser_ie', 'browser_safari'], "
     ]
    }
   ],
   "source": [
    "bestFeatures_X=  [feature for feature, booln in zip(list(X_train_X.columns.values), rfecv.support_) if booln]\n",
    "print(\"Selecting the \"+ str(len(bestFeatures_X)) + \" best features, which include\")\n",
    "print(bestFeatures_X, end=\", \")"
   ]
  },
  {
   "cell_type": "code",
   "execution_count": 174,
   "metadata": {},
   "outputs": [],
   "source": [
    "with open('bestFeatures_X.pkl', 'wb') as f:\n",
    "    pickle.dump(bestFeatures_X, f)"
   ]
  }
 ],
 "metadata": {
  "kernelspec": {
   "display_name": "Python 3",
   "language": "python",
   "name": "python3"
  },
  "language_info": {
   "codemirror_mode": {
    "name": "ipython",
    "version": 3
   },
   "file_extension": ".py",
   "mimetype": "text/x-python",
   "name": "python",
   "nbconvert_exporter": "python",
   "pygments_lexer": "ipython3",
   "version": "3.7.1"
  }
 },
 "nbformat": 4,
 "nbformat_minor": 2
}
