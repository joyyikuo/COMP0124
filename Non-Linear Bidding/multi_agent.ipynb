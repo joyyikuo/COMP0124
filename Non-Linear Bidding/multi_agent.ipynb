{
 "cells": [
  {
   "cell_type": "code",
   "execution_count": 24,
   "metadata": {},
   "outputs": [],
   "source": [
    "%matplotlib inline\n",
    "import pandas as pd\n",
    "import numpy as np\n",
    "import matplotlib.pyplot as plt\n",
    "import seaborn as sns\n",
    "import itertools\n",
    "import math\n",
    "import random\n",
    "from sklearn.utils import resample\n",
    "from sklearn.externals import joblib\n",
    "import pickle\n",
    "from sklearn.linear_model import LogisticRegression\n",
    "from sklearn.feature_selection import RFECV\n",
    "from sklearn.model_selection import StratifiedKFold\n",
    "from sklearn.metrics import precision_score\n",
    "import xgboost as xgb\n",
    "\n",
    "\n",
    "import os\n",
    "os.environ['KMP_DUPLICATE_LIB_OK']='True'\n",
    "\n",
    "import warnings\n",
    "warnings.filterwarnings(\"ignore\", category=FutureWarning)"
   ]
  },
  {
   "cell_type": "markdown",
   "metadata": {},
   "source": [
    "# IMPORT DATA"
   ]
  },
  {
   "cell_type": "code",
   "execution_count": 20,
   "metadata": {},
   "outputs": [],
   "source": [
    "#import Pickled Data\n",
    "\n",
    "X_train = pickle.load(open(\"X_train_features.pkl\", 'rb'))\n",
    "y_train = pickle.load(open(\"y_train_features.pkl\", 'rb'))\n",
    "X_validation = pickle.load(open(\"X_validation_features.pkl\", 'rb'))\n",
    "y_validation = pickle.load(open(\"y_validation_features.pkl\", 'rb'))\n",
    "X_test = pickle.load(open(\"X_test_features.pkl\", 'rb'))\n",
    "\n",
    "#non-linear pickled data import\n",
    "X_train_X = pickle.load(open(\"X_train_features_X.pkl\", 'rb'))\n",
    "y_train_X = pickle.load(open(\"y_train_features_X.pkl\", 'rb'))\n",
    "X_validation_X = pickle.load(open(\"X_validation_features_X.pkl\", 'rb'))\n",
    "y_validation_X = pickle.load(open(\"y_validation_features_X.pkl\", 'rb'))\n",
    "X_test_X = pickle.load(open(\"X_test_features_X.pkl\", 'rb'))\n",
    "\n",
    "X_train_pay = pickle.load(open(\"X_train_pay.pkl\", 'rb'))\n",
    "\n",
    "Lin_features = pickle.load(open('bestFeatures.pkl', 'rb'))\n",
    "Lin_features_X = pickle.load(open('bestFeatures_X.pkl', 'rb'))\n",
    "\n",
    "#Liimit the input data by the feature columns\n",
    "feature_X_train_L = X_train[Lin_features].values\n",
    "feature_X_val_L = X_validation[Lin_features].values\n",
    "feature_X_test_L = X_test[Lin_features].values"
   ]
  },
  {
   "cell_type": "code",
   "execution_count": 16,
   "metadata": {},
   "outputs": [],
   "source": [
    "#import unprocessed original data\n",
    "\n",
    "traindf = pd.read_csv(\"train.csv\")\n",
    "validationdf = pd.read_csv(\"validation.csv\")\n",
    "testdf = pd.read_csv(\"test.csv\")\n"
   ]
  },
  {
   "cell_type": "code",
   "execution_count": 18,
   "metadata": {},
   "outputs": [],
   "source": [
    "#Liimit the input data by the feature columns\n",
    "\n",
    "feature_X_train = X_train[Lin_features].values\n",
    "feature_X_val = X_validation[Lin_features].values\n",
    "feature_X_test = X_test[Lin_features].values\n",
    "\n",
    "feature_X_train_X = X_train_X[Lin_features_X].values\n",
    "feature_X_val_X = X_validation_X[Lin_features_X].values\n",
    "feature_X_test_X = X_test_X[Lin_features_X].values\n"
   ]
  },
  {
   "cell_type": "code",
   "execution_count": 19,
   "metadata": {},
   "outputs": [
    {
     "name": "stdout",
     "output_type": "stream",
     "text": [
      "In the training data, the average CTR is: 0.0738 , and the average BID is: $105.46\n"
     ]
    }
   ],
   "source": [
    "'''\n",
    "Creating the necessary variables for the the average CTR \n",
    "and the range which will be used to test the base bid\n",
    "'''\n",
    "avgCTR = traindf[\"click\"].sum()*100/traindf.shape[0]\n",
    "bid_list = range(100,150, 5)\n",
    "\n",
    "\n",
    "avgBid_training = traindf.loc[traindf[\"click\"] == 1, \"payprice\"].mean()\n",
    "print(\"In the training data, the average CTR is: %.4f , and the average BID is: $%.2f\"\n",
    "      % (avgCTR, avgBid_training))\n"
   ]
  },
  {
   "cell_type": "markdown",
   "metadata": {},
   "source": [
    "# XGB"
   ]
  },
  {
   "cell_type": "code",
   "execution_count": 28,
   "metadata": {},
   "outputs": [],
   "source": [
    "xgb_clf = xgb.XGBClassifier(objective='binary:logistic', colsample_bytree = 0.2, learning_rate = 0.1,\n",
    "               max_depth = 5, alpha = 10, n_estimators = 500, random_state = 123)\n",
    "\n",
    "xgb_clf.fit(feature_X_train, y_train)\n",
    "\n",
    "\n",
    "predict_proba_list_val = xgb_clf.predict_proba(feature_X_val)\n",
    "\n",
    "predict_proba_list_test = xgb_clf.predict_proba(feature_X_test)\n",
    "\n",
    "validationdf['click_proba_xgb'] = [item[1] for item in predict_proba_list_val]\n",
    "testdf['click_proba_xgb'] = [item[1] for item in predict_proba_list_test]"
   ]
  },
  {
   "cell_type": "code",
   "execution_count": 29,
   "metadata": {},
   "outputs": [],
   "source": [
    "xgb_clf = xgb.XGBClassifier(objective='binary:logistic', colsample_bytree = 0.2, learning_rate = 0.1,\n",
    "              max_depth = 5, alpha = 10, n_estimators = 500, random_state = 123)\n",
    "xgb_clf.fit(feature_X_train_X ,y_train)\n",
    "\n",
    "x_predict = xgb_clf.predict(feature_X_val_X )\n",
    "\n",
    "x_predict_proba_list = xgb_clf.predict_proba(feature_X_val_X)\n",
    "validationdf['click_proba_XGBOOST'] = [item[1] for item in x_predict_proba_list]\n",
    "\n",
    "x_predict_proba_list_test = xgb_clf.predict_proba(feature_X_test_X)\n",
    "testdf['click_proba_XGBOOST'] = [item[1] for item in x_predict_proba_list_test]\n",
    "\n",
    "pCTR_test_X = testdf['click_proba_XGBOOST']"
   ]
  },
  {
   "cell_type": "code",
   "execution_count": 31,
   "metadata": {},
   "outputs": [],
   "source": [
    "#seperate\n",
    "pCTR_val_L=validationdf['click_proba_log']\n",
    "pCTR_val_X=validationdf['click_proba_XGBOOST']\n",
    "#avg\n",
    "col = validationdf.loc[: , 'click_proba_log':'click_proba_XGBOOST']\n",
    "pCTR_avg=col.mean(axis=1)\n",
    "#max\n",
    "pCTR_max=col.max(axis=1)"
   ]
  },
  {
   "cell_type": "code",
   "execution_count": 46,
   "metadata": {},
   "outputs": [],
   "source": [
    "###CONSTANT DEFITIONS\n",
    "c_optimum=0.103\n",
    "ld_optimum=5.95*10**-7\n",
    "base_bid = 115\n",
    "budget = 6250000"
   ]
  },
  {
   "cell_type": "code",
   "execution_count": 35,
   "metadata": {},
   "outputs": [],
   "source": [
    "#ORTB on the validation set \n",
    "def ORTB_val(c,ld, pCTR = pCTR_val_X, budget = budget, df = validationdf):   \n",
    "    counter = 0\n",
    "    clicks = 0\n",
    "    imp = 0\n",
    "    bid_ORTB=np.sqrt(c*pCTR/ld + c**2)-c\n",
    "    while ((budget >= 0) & (counter < len(df))):\n",
    "        if pCTR[counter]>0:\n",
    "            if(df['payprice'][counter] < bid_ORTB[counter]):\n",
    "                budget -= df['payprice'][counter]\n",
    "                clicks += df['click'][counter]\n",
    "                imp += 1\n",
    "        counter += 1\n",
    "\n",
    "    return clicks, imp, bid_ORTB\n",
    "\n",
    "#ORTB on the test set\n",
    "def ORTB_test(c,ld, pCTR = pCTR_test_X, budget = budget, df = testdf):   \n",
    "    bid_ORTB=np.sqrt(c*pCTR/ld + c**2)-c\n",
    "\n",
    "    return bid_ORTB"
   ]
  },
  {
   "cell_type": "markdown",
   "metadata": {},
   "source": [
    "# MULTI AGENT "
   ]
  },
  {
   "cell_type": "code",
   "execution_count": 48,
   "metadata": {
    "scrolled": true
   },
   "outputs": [],
   "source": [
    "###Multi-agent evaluation method###\n",
    "\n",
    "import heapq\n",
    "def evaluate_mult(agent_bids, budget = 6250000):\n",
    "    \n",
    "    agent_num = len(agent_bids)\n",
    "    counter = 0\n",
    "    clicks = [0] * agent_num\n",
    "    imp =[0] * agent_num\n",
    "    spent = [0] * agent_num\n",
    "    agent_budget = [budget] * agent_num\n",
    "\n",
    "    while ((any(x > 0 for x in agent_budget)) & (counter < len(validationdf))):\n",
    "        #assign current round of bids to one array\n",
    "        curr_bids = [item[counter] for item in agent_bids]\n",
    "        #check for budget; if agent runs out of budget, set current round's bid to 0\n",
    "        for i in range(agent_num):\n",
    "            #set their bid to 0 if they run out of budget\n",
    "            if agent_budget[i] <= 0:\n",
    "                curr_bids[i] = 0\n",
    "\n",
    "        if(any(y >= validationdf['payprice'][counter] for y in curr_bids)):\n",
    "            #add payprice to list of bid prices to compare\n",
    "            curr_bids.append(validationdf['payprice'][counter])\n",
    "            #deduct second price from winning bid's budget\n",
    "            agent_budget[curr_bids.index(max(curr_bids))] -= heapq.nlargest(2, curr_bids)[1]\n",
    "            #return bid results\n",
    "            clicks[curr_bids.index(max(curr_bids))] += validationdf['click'][counter]\n",
    "            spent[curr_bids.index(max(curr_bids))] += heapq.nlargest(2, curr_bids)[1]\n",
    "            imp[curr_bids.index(max(curr_bids))] += 1\n",
    "        counter += 1\n",
    "    \n",
    "    \n",
    "    return clicks, spent, imp"
   ]
  },
  {
   "cell_type": "code",
   "execution_count": 41,
   "metadata": {},
   "outputs": [],
   "source": [
    "def print_results(evaluation):\n",
    "    agent_num = len(evaluation[0])\n",
    "    agents_ctr = [0] * agent_num\n",
    "    agents_cpm = [0] * agent_num\n",
    "    agents_cpc = [0] * agent_num\n",
    "    for i in range(agent_num):\n",
    "        if(evaluation[2][i] == 0):\n",
    "            agents_ctr[i] = 0\n",
    "            agents_cpm[i] = 0\n",
    "            agents_cpc[i] = 0\n",
    "        else:\n",
    "            agents_ctr[i] = evaluation[0][i] / evaluation[2][i]\n",
    "            agents_cpm[i] = evaluation[1][i] / evaluation[2][i]\n",
    "            agents_cpc[i] = evaluation[1][i] / evaluation[0][i] / 1000\n",
    "    \n",
    "    print(\"Agent clicks: \", evaluation[0])\n",
    "    print(\"Agent spending: \", evaluation[1])\n",
    "    print(\"Agent impressions: \", evaluation[2])\n",
    "    print(\"Agent CTRs: \", agents_ctr)\n",
    "    print(\"Agent CPMs: \", agents_cpm)\n",
    "    print(\"Agent CPCs: \", agents_cpc)"
   ]
  },
  {
   "cell_type": "code",
   "execution_count": 84,
   "metadata": {},
   "outputs": [
    {
     "name": "stdout",
     "output_type": "stream",
     "text": [
      "Agent clicks:  [47, 108]\n",
      "Agent spending:  [5133701.0, 3059185.980479075]\n",
      "Agent impressions:  [126976, 12698]\n",
      "Agent CTRs:  [0.00037014868951612903, 0.008505276421483698]\n",
      "Agent CPMs:  [40.430482925907256, 240.91872582131637]\n",
      "Agent CPCs:  [109.22768085106384, 28.325796115546993]\n"
     ]
    }
   ],
   "source": []
  },
  {
   "cell_type": "code",
   "execution_count": 43,
   "metadata": {},
   "outputs": [],
   "source": [
    "#define method for outputting leaderboard submission csv \n",
    "def lead_bid(bid): \n",
    "    output = pd.DataFrame(testdf[\"bidid\"])\n",
    "    output = output.join(pd.DataFrame(bid))\n",
    "    output.to_csv('testing_bidding_price.csv', header = [\"bidid\",\"bidprice\"], index = None)"
   ]
  },
  {
   "cell_type": "code",
   "execution_count": 94,
   "metadata": {},
   "outputs": [],
   "source": [
    "def str_top(c, ld, pCTR = pCTR_val_X, budget = budget, df = validationdf):\n",
    "    mid_ctr_ind = df.click_proba_XGBOOST.loc[(df.click_proba_XGBOOST <= 0.95)].index.values\n",
    "    ok_ctr_ind = df.click_proba_XGBOOST.loc[(df.click_proba_XGBOOST > 0.95)].index.values\n",
    "    \n",
    "    bid_ORTB = np.sqrt(c*pCTR/ld + c**2)-c\n",
    "    mid_val = sum(bid_ORTB[mid_ctr_ind])/len(ok_ctr_ind)\n",
    "    \n",
    "    bid_ORTB[mid_ctr_ind] = 0\n",
    "    bid_ORTB[ok_ctr_ind] = [x + mid_val for x in bid_ORTB[ok_ctr_ind]]\n",
    "        \n",
    "    return bid_ORTB\n",
    "\n",
    "def str_bot(c, ld, pCTR = pCTR_val_X, budget = budget, df = validationdf):\n",
    "    mid_ctr_ind = df.click_proba_XGBOOST.loc[(df.click_proba_XGBOOST > 0.2)].index.values\n",
    "    ok_ctr_ind = df.click_proba_XGBOOST.loc[(df.click_proba_XGBOOST <= 0.2)].index.values\n",
    "    \n",
    "    bid_ORTB = np.sqrt(c*pCTR/ld + c**2)-c\n",
    "    mid_val = sum(bid_ORTB[mid_ctr_ind])/len(ok_ctr_ind)\n",
    "    \n",
    "    bid_ORTB[mid_ctr_ind] = 0\n",
    "    bid_ORTB[ok_ctr_ind] = [x + mid_val for x in bid_ORTB[ok_ctr_ind]]\n",
    "        \n",
    "    return bid_ORTB\n",
    "\n",
    "def str_top_bot(c, ld, pCTR = pCTR_val_X, budget = budget, df = validationdf):\n",
    "    mid_ctr_ind = df.click_proba_XGBOOST.loc[(df.click_proba_XGBOOST <= 0.8) & \n",
    "                                            (df.click_proba_XGBOOST >= 0.2)].index.values\n",
    "    ok_ctr_ind = df.click_proba_XGBOOST.loc[(df.click_proba_XGBOOST > 0.8) | \n",
    "                                            (df.click_proba_XGBOOST < 0.2)].index.values\n",
    "    \n",
    "    bid_ORTB = np.sqrt(c*pCTR/ld + c**2)-c\n",
    "    mid_val = sum(bid_ORTB[mid_ctr_ind])/len(ok_ctr_ind)\n",
    "    \n",
    "    bid_ORTB[mid_ctr_ind] = 0\n",
    "    bid_ORTB[ok_ctr_ind] = [x + mid_val for x in bid_ORTB[ok_ctr_ind]]\n",
    "        \n",
    "    return bid_ORTB\n",
    "\n",
    "def str_50_50(c, ld, pCTR = pCTR_val_X, budget = budget, df = validationdf):\n",
    "    \n",
    "    mid_ctr_ind = df.click_proba_XGBOOST.loc[(df.click_proba_XGBOOST <= 0.5)].index.values\n",
    "    ok_ctr_ind = df.click_proba_XGBOOST.loc[(df.click_proba_XGBOOST > 0.5)].index.values\n",
    "    \n",
    "    bid_ORTB = np.sqrt(c*pCTR/ld + c**2)-c\n",
    "    mid_val = sum(bid_ORTB[mid_ctr_ind])/len(ok_ctr_ind)\n",
    "    \n",
    "    bid_ORTB[mid_ctr_ind] = 0\n",
    "    bid_ORTB[ok_ctr_ind] = [x + mid_val for x in bid_ORTB[ok_ctr_ind]]\n",
    "        \n",
    "    return bid_ORTB\n",
    "\n",
    "def str_top_emph(c, ld, pCTR = pCTR_val_X, budget = budget, df = validationdf):   \n",
    "    mid_ctr_ind = df.click_proba_XGBOOST.loc[(df.click_proba_XGBOOST <= 0.95) & \n",
    "                                            (df.click_proba_XGBOOST >= 0.2)].index.values\n",
    "    ok_ctr_ind = df.click_proba_XGBOOST.loc[(df.click_proba_XGBOOST > 0.95)].index.values\n",
    "    \n",
    "    toss_ctr_ind = df.click_proba_XGBOOST.loc[(df.click_proba_XGBOOST < 0.2)].index.values\n",
    "    \n",
    "    bid_ORTB = np.sqrt(c*pCTR/ld + c**2)-c\n",
    "    mid_val = sum(bid_ORTB[toss_ctr_ind])/len(ok_ctr_ind)\n",
    "    \n",
    "    bid_ORTB[mid_ctr_ind] = [x + 10 for x in bid_ORTB[mid_ctr_ind]]\n",
    "    bid_ORTB[ok_ctr_ind] = [x + (mid_val+100) for x in bid_ORTB[ok_ctr_ind]]\n",
    "    bid_ORTB[toss_ctr_ind] = 0\n",
    "        \n",
    "    return bid_ORTB"
   ]
  },
  {
   "cell_type": "code",
   "execution_count": 89,
   "metadata": {
    "scrolled": true
   },
   "outputs": [
    {
     "data": {
      "text/plain": [
       "<matplotlib.axes._subplots.AxesSubplot at 0x1a4b58c0b8>"
      ]
     },
     "execution_count": 89,
     "metadata": {},
     "output_type": "execute_result"
    },
    {
     "data": {
      "image/png": "[encoded data removed]",
      "text/plain": [
       "<Figure size 432x288 with 1 Axes>"
      ]
     },
     "metadata": {
      "needs_background": "light"
     },
     "output_type": "display_data"
    }
   ],
   "source": [
    "#visualising the distribution of clicks with pCTRs from our baseline strategy\n",
    "sns.distplot(validationdf.filter(regex = \"click\").loc[validationdf[\"click\"] == 1][\"click_proba_XGBOOST\"],\n",
    "            kde = None, bins = 20)"
   ]
  },
  {
   "cell_type": "code",
   "execution_count": 62,
   "metadata": {},
   "outputs": [
    {
     "data": {
      "text/plain": [
       "<matplotlib.axes._subplots.AxesSubplot at 0x1a4fb18f98>"
      ]
     },
     "execution_count": 62,
     "metadata": {},
     "output_type": "execute_result"
    },
    {
     "data": {
      "image/png": "[encoded data removed]",
      "text/plain": [
       "<Figure size 432x288 with 1 Axes>"
      ]
     },
     "metadata": {
      "needs_background": "light"
     },
     "output_type": "display_data"
    }
   ],
   "source": [
    "#visualising the overall distribution of pCTR of the validation set\n",
    "sns.distplot(validationdf.click_proba_XGBOOST, kde = None)"
   ]
  },
  {
   "cell_type": "code",
   "execution_count": 95,
   "metadata": {},
   "outputs": [
    {
     "name": "stdout",
     "output_type": "stream",
     "text": [
      "Agent clicks:  [107, 47]\n",
      "Agent spending:  [6130961.0, 59777.30655169071]\n",
      "Agent impressions:  [139418, 145]\n",
      "Agent CTRs:  [0.0007674762225824499, 0.32413793103448274]\n",
      "Agent CPMs:  [43.97539055215252, 412.2572865633842]\n",
      "Agent CPCs:  [57.298700934579436, 1.2718575862061852]\n",
      "Agent clicks:  [132, 24]\n",
      "Agent spending:  [3392606, 6250012.174881717]\n",
      "Agent impressions:  [71301, 79793]\n",
      "Agent CTRs:  [0.0018513064332898556, 0.0003007782637574725]\n",
      "Agent CPMs:  [47.581464495589124, 78.3278254343328]\n",
      "Agent CPCs:  [25.701560606060607, 260.41717395340487]\n",
      "Agent clicks:  [100, 56]\n",
      "Agent spending:  [3391333, 6250018.132363676]\n",
      "Agent impressions:  [71572, 78909]\n",
      "Agent CTRs:  [0.0013971944335773767, 0.0007096782369564942]\n",
      "Agent CPMs:  [47.38351590007265, 79.2053901628924]\n",
      "Agent CPCs:  [33.91333, 111.60746664935137]\n",
      "Agent clicks:  [74, 80]\n",
      "Agent spending:  [5972843.0, 622694.5429149121]\n",
      "Agent impressions:  [137714, 1849]\n",
      "Agent CTRs:  [0.0005373455131649651, 0.04326663061114116]\n",
      "Agent CPMs:  [43.37135657957796, 336.77368464841106]\n",
      "Agent CPCs:  [80.7140945945946, 7.783681786436401]\n",
      "Agent clicks:  [47, 108]\n",
      "Agent spending:  [5133701.0, 3059185.980479075]\n",
      "Agent impressions:  [126976, 12698]\n",
      "Agent CTRs:  [0.00037014868951612903, 0.008505276421483698]\n",
      "Agent CPMs:  [40.430482925907256, 240.91872582131637]\n",
      "Agent CPCs:  [109.22768085106384, 28.325796115546993]\n"
     ]
    }
   ],
   "source": [
    "print_results(evaluate_mult([ORTB_val(c_optimum, ld_optimum)[2],\n",
    "                                 str_top(c_optimum, ld_optimum)]))\n",
    "\n",
    "print_results(evaluate_mult([ORTB_val(c_optimum, ld_optimum)[2],\n",
    "                                 str_bot(c_optimum, ld_optimum)]))\n",
    "\n",
    "print_results(evaluate_mult([ORTB_val(c_optimum, ld_optimum)[2],\n",
    "                                 str_top_bot(c_optimum, ld_optimum)]))\n",
    "\n",
    "print_results(evaluate_mult([ORTB_val(c_optimum, ld_optimum)[2],\n",
    "                                 str_50_50(c_optimum, ld_optimum)]))\n",
    "\n",
    "print_results(evaluate_mult([ORTB_val(c_optimum, ld_optimum)[2],\n",
    "                                 str_top_emph(c_optimum, ld_optimum)]))"
   ]
  },
  {
   "cell_type": "code",
   "execution_count": null,
   "metadata": {},
   "outputs": [],
   "source": []
  }
 ],
 "metadata": {
  "kernelspec": {
   "display_name": "Python 3",
   "language": "python",
   "name": "python3"
  },
  "language_info": {
   "codemirror_mode": {
    "name": "ipython",
    "version": 3
   },
   "file_extension": ".py",
   "mimetype": "text/x-python",
   "name": "python",
   "nbconvert_exporter": "python",
   "pygments_lexer": "ipython3",
   "version": "3.7.1"
  }
 },
 "nbformat": 4,
 "nbformat_minor": 2
}
