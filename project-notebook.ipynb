{
 "cells": [
  {
   "cell_type": "code",
   "execution_count": 1,
   "metadata": {},
   "outputs": [],
   "source": [
    "#packages import\n",
    "import pandas as pd\n",
    "import numpy as np\n",
    "import matplotlib.pyplot as plt\n",
    "import sklearn\n",
    "import seaborn as sns"
   ]
  },
  {
   "cell_type": "code",
   "execution_count": 2,
   "metadata": {},
   "outputs": [],
   "source": [
    "#dataset import\n",
    "test_data = pd.read_csv(\"test.csv\")\n",
    "train_data = pd.read_csv(\"train.csv\")\n",
    "validation_data = pd.read_csv(\"validation.csv\")"
   ]
  },
  {
   "cell_type": "code",
   "execution_count": 3,
   "metadata": {},
   "outputs": [],
   "source": [
    "#basic methods for \"bidding\" in validation set and training set\n",
    "#takes in bid price and budget as parameters, tracks for bid >= payprice and deducts from budget if true\n",
    "#returns CTR (won bids with click == 1 / all bids won)\n",
    "def bid_con_val(price, budget):\n",
    "    counter = 0\n",
    "    get_bid = []\n",
    "    while (budget >= 0):\n",
    "        if(validation_data['payprice'][counter] <= price):\n",
    "            budget -= validation_data['payprice'][counter]\n",
    "            get_bid.append(validation_data['click'][counter])\n",
    "        counter += 1\n",
    "    return get_bid.count(1)/len(get_bid)\n",
    "\n",
    "def bid_con_train(price, budget):\n",
    "    counter = 0\n",
    "    get_bid = []\n",
    "    while (budget >= 0):\n",
    "        if(train_data['payprice'][counter] <= price):\n",
    "            budget -= train_data['payprice'][counter]\n",
    "            get_bid.append(train_data['click'][counter])\n",
    "        counter += 1\n",
    "    return get_bid.count(1)/len(get_bid)"
   ]
  },
  {
   "cell_type": "code",
   "execution_count": 4,
   "metadata": {},
   "outputs": [],
   "source": [
    "#constant value declarations\n",
    "budget = 6250000"
   ]
  },
  {
   "cell_type": "code",
   "execution_count": null,
   "metadata": {},
   "outputs": [],
   "source": [
    "#constant bidding CTR for range based on min bidprice to max bidprice in training set\n",
    "#takes a while to load :(\n",
    "result_list = []\n",
    "for i in range(train_data.bidprice.min(),300,1):\n",
    "    result_list.append(bid_con_train(i, 6250000))\n",
    "\n",
    "fig = plt.figure(figsize=(10,7))\n",
    "ax = fig.add_subplot(1, 1, 1)\n",
    "plt.plot(range(train_data.bidprice.min(),300,1), result_list)\n",
    "#plt.xlim(240,250)"
   ]
  }
 ],
 "metadata": {
  "kernelspec": {
   "display_name": "Python 3",
   "language": "python",
   "name": "python3"
  },
  "language_info": {
   "codemirror_mode": {
    "name": "ipython",
    "version": 3
   },
   "file_extension": ".py",
   "mimetype": "text/x-python",
   "name": "python",
   "nbconvert_exporter": "python",
   "pygments_lexer": "ipython3",
   "version": "3.7.1"
  }
 },
 "nbformat": 4,
 "nbformat_minor": 2
}
