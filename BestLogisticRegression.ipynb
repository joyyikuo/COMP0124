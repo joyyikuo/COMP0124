{
 "cells": [
  {
   "cell_type": "code",
   "execution_count": 1,
   "metadata": {},
   "outputs": [],
   "source": [
    "%matplotlib inline\n",
    "import pandas as pd\n",
    "import numpy as np\n",
    "import matplotlib.pyplot as plt\n",
    "import seaborn as sns\n",
    "import itertools\n",
    "import math\n",
    "import random\n",
    "from sklearn.utils import resample\n",
    "from sklearn.externals import joblib\n",
    "import pickle\n",
    "from sklearn.linear_model import LogisticRegression\n",
    "from sklearn.feature_selection import RFECV\n",
    "from sklearn.model_selection import StratifiedKFold\n",
    "from sklearn.metrics import precision_score\n",
    "\n",
    "import warnings\n",
    "warnings.filterwarnings(\"ignore\", category=FutureWarning)"
   ]
  },
  {
   "cell_type": "code",
   "execution_count": 2,
   "metadata": {},
   "outputs": [],
   "source": [
    "#import Data\n",
    "X_train = pickle.load(open(\"X_train_features.pkl\", 'rb'))\n",
    "y_train = pickle.load(open(\"y_train_features.pkl\", 'rb'))\n",
    "X_validation = pickle.load(open(\"X_validation_features.pkl\", 'rb'))\n",
    "y_validation = pickle.load(open(\"y_validation_features.pkl\", 'rb'))\n",
    "\n",
    "Lin_features = pickle.load(open('bestFeatures.pkl', 'rb'))\n"
   ]
  },
  {
   "cell_type": "code",
   "execution_count": 3,
   "metadata": {},
   "outputs": [
    {
     "name": "stdout",
     "output_type": "stream",
     "text": [
      "240 of the original 580 are now being used\n"
     ]
    }
   ],
   "source": [
    "print(str(len(Lin_features)) + \" of the original \" + str(len(X_train.columns)) + \" are now being used\")"
   ]
  },
  {
   "cell_type": "code",
   "execution_count": null,
   "metadata": {},
   "outputs": [
    {
     "name": "stdout",
     "output_type": "stream",
     "text": [
      "580\n"
     ]
    }
   ],
   "source": [
    "#Liimit the input data by the feature columns\n",
    "feature_X_train = X_train[Lin_features].values\n",
    "feature_X_val = X_validation[Lin_features].values\n",
    "\n",
    "print(len(X_validation.columns))"
   ]
  },
  {
   "cell_type": "code",
   "execution_count": null,
   "metadata": {},
   "outputs": [],
   "source": [
    "#import unprocessed original data\n",
    "traindf = pd.read_csv(\"train.csv\")\n",
    "validationdf = pd.read_csv(\"validation.csv\")"
   ]
  },
  {
   "cell_type": "code",
   "execution_count": null,
   "metadata": {},
   "outputs": [
    {
     "name": "stdout",
     "output_type": "stream",
     "text": [
      "In the training data, the average CTR is: 0.0738 , and the average BID is: $105.46\n"
     ]
    }
   ],
   "source": [
    "avgCTR = traindf[\"click\"].sum()*100/traindf.shape[0]\n",
    "\n",
    "avgBid_training = traindf.loc[traindf[\"click\"] == 1, \"payprice\"].mean()\n",
    "\n",
    "print(\"In the training data, the average CTR is: %.4f , and the average BID is: $%.2f\"\n",
    "      % (avgCTR, avgBid_training))\n",
    "\n",
    "\n",
    "bid_list = list(range(traindf.loc[traindf[\"click\"] == 1, \"payprice\"].min(),300, 5))"
   ]
  },
  {
   "cell_type": "code",
   "execution_count": null,
   "metadata": {},
   "outputs": [
    {
     "name": "stdout",
     "output_type": "stream",
     "text": [
      "Accuracty level of the Logistic Regression model :::: 1.00\n"
     ]
    }
   ],
   "source": [
    "clf = LogisticRegression(C = 0.1, random_state = 123)\n",
    "clf.fit(feature_X_train, y_train)\n",
    "\n",
    "predict = clf.predict_proba(feature_X_val)\n",
    "predict_proba_list = clf.predict_proba(feature_X_val)\n",
    "\n",
    "validationdf['click_proba'] = [item[1] for item in predict_proba_list]\n",
    "\n",
    "\n",
    "#kpi = precision_score(feature_X_val, predict)*100\n",
    "\n",
    "print(\"Accuracty level of the Logistic Regression model :::: %.2f\" % \n",
    "      clf.score(feature_X_val, y_validation))"
   ]
  },
  {
   "cell_type": "code",
   "execution_count": null,
   "metadata": {},
   "outputs": [],
   "source": [
    "\n",
    "def lin_bid(base_bid, budget = 6250000):\n",
    "    \n",
    "    bid = (base_bid * validationdf[\"click_proba\"]) / avgCTR\n",
    "        \n",
    "    counter = 0\n",
    "    clicks = 0\n",
    "    imp = 0\n",
    "    \n",
    "    while ((budget >= 0) & (counter < len(validationdf))):\n",
    "\n",
    "        if(validationdf['payprice'][counter] < bid[counter]):\n",
    "            budget -= validationdf['payprice'][counter]\n",
    "\n",
    "            clicks += validationdf['click'][counter]\n",
    "            imp += 1\n",
    "            \n",
    "        counter += 1\n",
    "    return clicks, imp"
   ]
  },
  {
   "cell_type": "code",
   "execution_count": null,
   "metadata": {},
   "outputs": [
    {
     "name": "stdout",
     "output_type": "stream",
     "text": [
      "Bidding $4 scores:: 7 clicks\n",
      "Bidding $9 scores:: 39 clicks\n",
      "Bidding $14 scores:: 60 clicks\n",
      "Bidding $19 scores:: 73 clicks\n",
      "Bidding $24 scores:: 82 clicks\n",
      "Bidding $29 scores:: 96 clicks\n",
      "Bidding $34 scores:: 103 clicks\n",
      "Bidding $39 scores:: 115 clicks\n",
      "Bidding $44 scores:: 119 clicks\n",
      "Bidding $49 scores:: 122 clicks\n",
      "Bidding $54 scores:: 128 clicks\n",
      "Bidding $59 scores:: 134 clicks\n",
      "Bidding $64 scores:: 139 clicks\n",
      "Bidding $69 scores:: 146 clicks\n",
      "Bidding $74 scores:: 146 clicks\n",
      "Bidding $79 scores:: 150 clicks\n",
      "Bidding $84 scores:: 156 clicks\n",
      "Bidding $89 scores:: 142 clicks\n",
      "Bidding $94 scores:: 138 clicks\n",
      "Bidding $99 scores:: 136 clicks\n",
      "Bidding $104 scores:: 129 clicks\n",
      "Bidding $109 scores:: 125 clicks\n",
      "Bidding $114 scores:: 123 clicks\n",
      "Bidding $119 scores:: 116 clicks\n",
      "Bidding $124 scores:: 113 clicks\n",
      "Bidding $129 scores:: 106 clicks\n",
      "Bidding $134 scores:: 100 clicks\n",
      "Bidding $139 scores:: 100 clicks\n",
      "Bidding $144 scores:: 99 clicks\n",
      "Bidding $149 scores:: 95 clicks\n",
      "Bidding $154 scores:: 92 clicks\n",
      "Bidding $159 scores:: 89 clicks\n",
      "Bidding $164 scores:: 87 clicks\n",
      "Bidding $169 scores:: 86 clicks\n",
      "Bidding $174 scores:: 84 clicks\n",
      "Bidding $179 scores:: 84 clicks\n",
      "Bidding $184 scores:: 84 clicks\n",
      "Bidding $189 scores:: 82 clicks\n",
      "Bidding $194 scores:: 80 clicks\n",
      "Bidding $199 scores:: 77 clicks\n",
      "Bidding $204 scores:: 77 clicks\n",
      "Bidding $209 scores:: 76 clicks\n",
      "Bidding $214 scores:: 76 clicks\n",
      "Bidding $219 scores:: 75 clicks\n",
      "Bidding $224 scores:: 75 clicks\n",
      "Bidding $229 scores:: 75 clicks\n",
      "Bidding $234 scores:: 74 clicks\n",
      "Bidding $239 scores:: 73 clicks\n",
      "Bidding $244 scores:: 74 clicks\n",
      "Bidding $249 scores:: 75 clicks\n",
      "Bidding $254 scores:: 73 clicks\n",
      "Bidding $259 scores:: 73 clicks\n",
      "Bidding $264 scores:: 73 clicks\n",
      "Bidding $269 scores:: 70 clicks\n",
      "Bidding $274 scores:: 70 clicks\n"
     ]
    }
   ],
   "source": [
    "clicks_list = []\n",
    "imp_list = []\n",
    "\n",
    "for bid in bid_list:\n",
    "    \n",
    "    total_clicks, total_imp = lin_bid(bid)\n",
    "    print(\"Bidding $\" + str(bid) + \" scores:: \" + str(total_clicks) + \" clicks\")\n",
    "    clicks_list.append(total_clicks)\n",
    "    imp_list.append(total_imp)    "
   ]
  },
  {
   "cell_type": "code",
   "execution_count": null,
   "metadata": {},
   "outputs": [],
   "source": [
    "plt.figure(figsize = (10,8))\n",
    "\n",
    "plt.subplot(3,1,1)\n",
    "plt.plot(bid_list, imp_list, \"b-\" )\n",
    "plt.xlabel(\"Base Bid\")\n",
    "plt.ylabel(\"# of Impressions\")"
   ]
  },
  {
   "cell_type": "code",
   "execution_count": null,
   "metadata": {},
   "outputs": [],
   "source": [
    "plt.figure(figsize = (10,8))\n",
    "\n",
    "plt.subplot(3,1,1)\n",
    "plt.plot(bid_list, clicks_list, \"r\")\n",
    "\n",
    "plt.xlabel(\"Base Bid\")\n",
    "plt.ylabel(\"# of Clicks\")"
   ]
  },
  {
   "cell_type": "code",
   "execution_count": null,
   "metadata": {},
   "outputs": [],
   "source": [
    "max_click = max(clicks_list)\n",
    "bid_index = clicks_list.index(max_click)\n",
    "best_bid = bid_list[bid_index]\n",
    "\n",
    "print(\"The best bid for this model is::: $\" + str(best_bid))"
   ]
  }
 ],
 "metadata": {
  "kernelspec": {
   "display_name": "Python 3",
   "language": "python",
   "name": "python3"
  },
  "language_info": {
   "codemirror_mode": {
    "name": "ipython",
    "version": 3
   },
   "file_extension": ".py",
   "mimetype": "text/x-python",
   "name": "python",
   "nbconvert_exporter": "python",
   "pygments_lexer": "ipython3",
   "version": "3.7.1"
  }
 },
 "nbformat": 4,
 "nbformat_minor": 2
}
