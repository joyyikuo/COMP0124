{
 "cells": [
  {
   "cell_type": "code",
   "execution_count": 1,
   "metadata": {},
   "outputs": [],
   "source": [
    "#packages import\n",
    "import pandas as pd\n",
    "import numpy as np\n",
    "import matplotlib.pyplot as plt\n",
    "import sklearn\n",
    "import seaborn as sns\n",
    "import matplotlib\n",
    "from matplotlib import pyplot as plt\n",
    "import pickle\n",
    "from sklearn.linear_model import LogisticRegression\n",
    "import warnings\n",
    "warnings.filterwarnings('always')  #\"error\", \"ignore\", \"always\", \"default\", \"module\" or \"once\"\n",
    "import os\n",
    "os.environ['KMP_DUPLICATE_LIB_OK']='True'\n",
    "import xgboost as xgb\n",
    "from sklearn.metrics import mean_squared_error\n",
    "from sklearn.metrics import roc_auc_score\n",
    "from sklearn.metrics import accuracy_score"
   ]
  },
  {
   "cell_type": "code",
   "execution_count": 2,
   "metadata": {},
   "outputs": [],
   "source": [
    "#dataset import\n",
    "test_data = pd.read_csv(\"test.csv\")\n",
    "train_data = pd.read_csv(\"train.csv\")\n",
    "train_data.reset_index(drop=True, inplace=True)\n",
    "validation_data = pd.read_csv(\"validation.csv\")\n",
    "validation_data.reset_index(drop=True, inplace=True)"
   ]
  },
  {
   "cell_type": "code",
   "execution_count": 11,
   "metadata": {},
   "outputs": [
    {
     "name": "stderr",
     "output_type": "stream",
     "text": [
      "/Users/Azzurro/anaconda3/lib/python3.7/site-packages/ipykernel_launcher.py:2: ResourceWarning: unclosed file <_io.BufferedReader name='X_train_features_X.pkl'>\n",
      "  \n",
      "/Users/Azzurro/anaconda3/lib/python3.7/site-packages/ipykernel_launcher.py:3: ResourceWarning: unclosed file <_io.BufferedReader name='y_train_features_X.pkl'>\n",
      "  This is separate from the ipykernel package so we can avoid doing imports until\n",
      "/Users/Azzurro/anaconda3/lib/python3.7/site-packages/ipykernel_launcher.py:4: ResourceWarning: unclosed file <_io.BufferedReader name='X_validation_features_X.pkl'>\n",
      "  after removing the cwd from sys.path.\n",
      "/Users/Azzurro/anaconda3/lib/python3.7/site-packages/ipykernel_launcher.py:5: ResourceWarning: unclosed file <_io.BufferedReader name='y_validation_features_X.pkl'>\n",
      "  \"\"\"\n",
      "/Users/Azzurro/anaconda3/lib/python3.7/site-packages/ipykernel_launcher.py:6: ResourceWarning: unclosed file <_io.BufferedReader name='X_test_features_X.pkl'>\n",
      "  \n",
      "/Users/Azzurro/anaconda3/lib/python3.7/site-packages/ipykernel_launcher.py:8: ResourceWarning: unclosed file <_io.BufferedReader name='X_train_features.pkl'>\n",
      "  \n",
      "/Users/Azzurro/anaconda3/lib/python3.7/site-packages/ipykernel_launcher.py:9: ResourceWarning: unclosed file <_io.BufferedReader name='y_train_features.pkl'>\n",
      "  if __name__ == '__main__':\n",
      "/Users/Azzurro/anaconda3/lib/python3.7/site-packages/ipykernel_launcher.py:10: ResourceWarning: unclosed file <_io.BufferedReader name='X_validation_features.pkl'>\n",
      "  # Remove the CWD from sys.path while we load stuff.\n",
      "/Users/Azzurro/anaconda3/lib/python3.7/site-packages/ipykernel_launcher.py:11: ResourceWarning: unclosed file <_io.BufferedReader name='y_validation_features.pkl'>\n",
      "  # This is added back by InteractiveShellApp.init_path()\n",
      "/Users/Azzurro/anaconda3/lib/python3.7/site-packages/ipykernel_launcher.py:12: ResourceWarning: unclosed file <_io.BufferedReader name='X_test_features.pkl'>\n",
      "  if sys.path[0] == '':\n",
      "/Users/Azzurro/anaconda3/lib/python3.7/site-packages/ipykernel_launcher.py:14: ResourceWarning: unclosed file <_io.BufferedReader name='bestFeatures.pkl'>\n",
      "  \n",
      "/Users/Azzurro/anaconda3/lib/python3.7/site-packages/ipykernel_launcher.py:15: ResourceWarning: unclosed file <_io.BufferedReader name='bestFeatures_X.pkl'>\n",
      "  from ipykernel import kernelapp as app\n"
     ]
    }
   ],
   "source": [
    "#import Data\n",
    "X_train_X = pickle.load(open(\"X_train_features_X.pkl\", 'rb'))\n",
    "y_train_X = pickle.load(open(\"y_train_features_X.pkl\", 'rb'))\n",
    "X_validation_X = pickle.load(open(\"X_validation_features_X.pkl\", 'rb'))\n",
    "y_validation_X = pickle.load(open(\"y_validation_features_X.pkl\", 'rb'))\n",
    "X_test_X = pickle.load(open(\"X_test_features_X.pkl\", 'rb'))\n",
    "\n",
    "X_train = pickle.load(open(\"X_train_features.pkl\", 'rb'))\n",
    "y_train = pickle.load(open(\"y_train_features.pkl\", 'rb'))\n",
    "X_validation = pickle.load(open(\"X_validation_features.pkl\", 'rb'))\n",
    "y_validation = pickle.load(open(\"y_validation_features.pkl\", 'rb'))\n",
    "X_test = pickle.load(open(\"X_test_features.pkl\", 'rb'))\n",
    "\n",
    "Lin_features = pickle.load(open('bestFeatures.pkl', 'rb'))\n",
    "X_features=pickle.load(open('bestFeatures_X.pkl', 'rb'))\n",
    "\n",
    "#Liimit the input data by the feature columns\n",
    "feature_X_train_L = X_train[Lin_features].values\n",
    "feature_X_val_L = X_validation[Lin_features].values\n",
    "feature_X_test_L = X_test[Lin_features].values\n",
    "\n",
    "feature_X_train_X = X_train_X[X_features].values\n",
    "feature_X_val_X = X_validation_X[X_features].values\n",
    "feature_X_test_X = X_test_X[X_features].values"
   ]
  },
  {
   "cell_type": "markdown",
   "metadata": {},
   "source": [
    "# CTR Estimation- Logistic"
   ]
  },
  {
   "cell_type": "code",
   "execution_count": 13,
   "metadata": {},
   "outputs": [
    {
     "name": "stderr",
     "output_type": "stream",
     "text": [
      "/Users/Azzurro/anaconda3/lib/python3.7/site-packages/sklearn/linear_model/logistic.py:433: FutureWarning: Default solver will be changed to 'lbfgs' in 0.22. Specify a solver to silence this warning.\n",
      "  FutureWarning)\n"
     ]
    }
   ],
   "source": [
    "l_clf = LogisticRegression(C = 0.1, random_state = 123)\n",
    "l_clf.fit(feature_X_train_L, y_train)\n",
    "\n",
    "l_predict = l_clf.predict(feature_X_val_L)\n",
    "\n",
    "l_predict_proba_list = l_clf.predict_proba(feature_X_val_L)\n",
    "validation_data['click_proba_log'] = [item[1] for item in l_predict_proba_list]\n",
    "\n",
    "l_predict_proba_list_test = l_clf.predict_proba(feature_X_test_L)\n",
    "test_data['click_proba_log'] = [item[1] for item in l_predict_proba_list_test]\n"
   ]
  },
  {
   "cell_type": "code",
   "execution_count": 14,
   "metadata": {},
   "outputs": [
    {
     "name": "stdout",
     "output_type": "stream",
     "text": [
      "Accuracy: 0.995209\n",
      "RMSE: 0.069215\n",
      "ROC_AUC: 0.616668\n"
     ]
    }
   ],
   "source": [
    "accuracy=accuracy_score(y_validation,l_predict)\n",
    "print(\"Accuracy: %f\" % (accuracy))\n",
    "\n",
    "rmse = np.sqrt(mean_squared_error(y_validation, l_predict))\n",
    "print(\"RMSE: %f\" % (rmse))\n",
    "\n",
    "roc_auc=roc_auc_score(y_validation,l_predict)\n",
    "print(\"ROC_AUC: %f\" % (roc_auc))"
   ]
  },
  {
   "cell_type": "markdown",
   "metadata": {},
   "source": [
    "# CTR Estimation- Gradient Boost  Regression Tree (GBRT)"
   ]
  },
  {
   "cell_type": "code",
   "execution_count": 15,
   "metadata": {},
   "outputs": [
    {
     "name": "stdout",
     "output_type": "stream",
     "text": [
      "RMSE: 0.078879\n",
      "ROC_AUC: 0.695108\n",
      "Accuracy: 0.993778\n"
     ]
    }
   ],
   "source": [
    "xgb_clf = xgb.XGBClassifier(objective='binary:logistic', colsample_bytree = 0.2, learning_rate = 0.1,\n",
    "              max_depth = 5, alpha = 10, n_estimators = 500, random_state = 123)\n",
    "xgb_clf.fit(feature_X_train_X ,y_train)\n",
    "\n",
    "x_predict = xgb_clf.predict(feature_X_val_X )\n",
    "\n",
    "x_predict_proba_list = xgb_clf.predict_proba(feature_X_val_X)\n",
    "validation_data['click_proba_XGBOOST'] = [item[1] for item in x_predict_proba_list]\n",
    "\n",
    "x_predict_proba_list_test = xgb_clf.predict_proba(feature_X_test_X)\n",
    "test_data['click_proba_XGBOOST'] = [item[1] for item in x_predict_proba_list_test]\n",
    "\n",
    "accuracy=accuracy_score(y_validation,x_predict)\n",
    "print(\"Accuracy: %f\" % (accuracy))\n",
    "\n",
    "rmse = np.sqrt(mean_squared_error(y_validation, x_predict))\n",
    "print(\"RMSE: %f\" % (rmse))\n",
    "\n",
    "roc_auc=roc_auc_score(y_validation,x_predict)\n",
    "print(\"ROC_AUC: %f\" % (roc_auc))"
   ]
  },
  {
   "cell_type": "markdown",
   "metadata": {},
   "source": [
    "# Ensembling pCTR"
   ]
  },
  {
   "cell_type": "code",
   "execution_count": 16,
   "metadata": {},
   "outputs": [],
   "source": [
    "#seperate\n",
    "pCTR_val_L=validation_data['click_proba_log']\n",
    "pCTR_val_X=validation_data['click_proba_XGBOOST']\n",
    "#avg\n",
    "pCTR_avg=np.mean([pCTR_val_L,pCTR_val_X],axis=1)\n",
    "#max\n",
    "pCTR_max=np.max([pCTR_val_L,pCTR_val_X],axis=1)"
   ]
  },
  {
   "cell_type": "markdown",
   "metadata": {},
   "source": [
    "# Non-Linear Bidding Strategy- ORTB"
   ]
  },
  {
   "cell_type": "code",
   "execution_count": 18,
   "metadata": {},
   "outputs": [],
   "source": [
    "budget=6250000"
   ]
  },
  {
   "cell_type": "code",
   "execution_count": 19,
   "metadata": {},
   "outputs": [],
   "source": [
    "def ORTB(c,ld,pCTR,budget,df):   \n",
    "    counter = 0\n",
    "    clicks = 0\n",
    "    imp = 0\n",
    "    bid_ORTB=np.sqrt(c*pCTR/ld + c**2)-c\n",
    "    while ((budget >= 0) & (counter < len(df))):\n",
    "        if pCTR[counter]>0:\n",
    "            if(df['payprice'][counter] < bid_ORTB[counter]):\n",
    "                budget -= df['payprice'][counter]\n",
    "                clicks += df['click'][counter]\n",
    "                imp += 1\n",
    "        counter += 1\n",
    "\n",
    "    return clicks, imp"
   ]
  },
  {
   "cell_type": "code",
   "execution_count": 20,
   "metadata": {},
   "outputs": [],
   "source": [
    "def ORTB_2(c,ld,pCTR,budget,df):   \n",
    "    counter = 0\n",
    "    clicks = 0\n",
    "    imp = 0\n",
    "    bid_ORTB_2=c*(np.cbrt((pCTR+np.sqrt(c**2*ld**2+pCTR**2))/(c*ld))-np.cbrt(c*ld/(pCTR+np.sqrt(c**2*ld**2+pCTR**2))))\n",
    "    while ((budget >= 0) & (counter < len(df))):\n",
    "        if pCTR[counter]>0:\n",
    "            if(df['payprice'][counter] < bid_ORTB_2[counter]):\n",
    "                budget -= df['payprice'][counter]\n",
    "                clicks += df['click'][counter]\n",
    "                imp += 1\n",
    "        counter += 1\n",
    "\n",
    "    return clicks, imp"
   ]
  },
  {
   "cell_type": "code",
   "execution_count": 86,
   "metadata": {},
   "outputs": [
    {
     "name": "stdout",
     "output_type": "stream",
     "text": [
      "ORTB+Logistic: click:142,imps:153452\n",
      "ORTB+XGBOOST: click:154,imps:139563\n"
     ]
    }
   ],
   "source": [
    "#optimum after tuning\n",
    "\n",
    "#ORTB+Logistic= 142\n",
    "c,i=ORTB(0.0103,1.18*10**-7,pCTR_val_L,budget,validation_data)\n",
    "print('ORTB+Logistic: click:%d,imps:%d'%(c,i))\n",
    "#ORTB+XGBOOST= 154\n",
    "c,i=ORTB(0.103,5.95*10**-7,pCTR_val_X,budget,validation_data)\n",
    "print('ORTB+XGBOOST: click:%d,imps:%d'%(c,i))"
   ]
  },
  {
   "cell_type": "code",
   "execution_count": 94,
   "metadata": {},
   "outputs": [],
   "source": [
    "#parameter tuning setup\n",
    "min_ld=10**-7\n",
    "max_ld=10**-6\n",
    "num_ld=500\n",
    "\n",
    "min_c=0\n",
    "max_c=1\n",
    "num_c=500\n",
    "\n",
    "ld_range = np.linspace(min_ld, max_ld, num_ld)\n",
    "#c_range = np.linspace(min_c, max_c, num_c)\n",
    "c_range=[0.01,0.04,0.07,0.1,0.13,0.16]\n",
    "\n",
    "clicks_list = np.zeros((len(ld_range),len(c_range)))\n",
    "imp_list = np.zeros((len(ld_range),len(c_range)))"
   ]
  },
  {
   "cell_type": "code",
   "execution_count": 95,
   "metadata": {},
   "outputs": [],
   "source": [
    "def run_nonlinear_bid_model(df,model,pCTR):\n",
    "    #implement the strategy\n",
    "    for i in range(len(ld_range)):\n",
    "        for j in range(len(c_range)):\n",
    "            clicks,imps=model(c_range[j],ld_range[i],pCTR,budget,df)\n",
    "            clicks_list[i,j]=clicks\n",
    "            imp_list[i,j]=imps\n",
    "            print(\"lambda:%d,cost:%d,max_click:%d,current_click:%d\"%(i,j,clicks_list.max(),clicks_list[i,j]))\n",
    "    #visualize the result\n",
    "    #imps\n",
    "    plt.figure(figsize = (10,8))\n",
    "    plt.subplot(3,1,1)\n",
    "    labels=[]\n",
    "    for j in range(len(c_range)):    \n",
    "        plt.plot(ld_range, imp_list[:,j],'b-')\n",
    "        label='c='+str(c_range[j])\n",
    "        labels.append(label)\n",
    "    plt.xlabel(\"lambda\")\n",
    "    plt.ylabel(\"# of Impressions\")\n",
    "    plt.legend(labels, loc='upper left')\n",
    "    \n",
    "    #clicks\n",
    "    plt.figure(figsize = (10,8))\n",
    "    plt.subplot(3,1,1)\n",
    "    labels=[]\n",
    "    for j in range(len(c_range)):    \n",
    "        plt.plot(ld_range, clicks_list[:,j],'r')\n",
    "        label='c='+str(c_range[j])\n",
    "        labels.append(label)\n",
    "    plt.xlabel(\"lambda\")\n",
    "    plt.ylabel(\"# of Clicks\")\n",
    "    plt.legend(labels, loc='upper left')\n",
    "\n",
    "    plt.show()\n"
   ]
  },
  {
   "cell_type": "code",
   "execution_count": null,
   "metadata": {},
   "outputs": [
    {
     "name": "stdout",
     "output_type": "stream",
     "text": [
      "lambda:0,cost:0,max_click:139,current_click:139\n",
      "lambda:0,cost:1,max_click:139,current_click:102\n",
      "lambda:0,cost:2,max_click:139,current_click:85\n",
      "lambda:0,cost:3,max_click:139,current_click:75\n",
      "lambda:0,cost:4,max_click:139,current_click:68\n",
      "lambda:0,cost:5,max_click:139,current_click:64\n",
      "lambda:1,cost:0,max_click:139,current_click:138\n",
      "lambda:1,cost:1,max_click:139,current_click:103\n",
      "lambda:1,cost:2,max_click:139,current_click:86\n",
      "lambda:1,cost:3,max_click:139,current_click:76\n",
      "lambda:1,cost:4,max_click:139,current_click:69\n",
      "lambda:1,cost:5,max_click:139,current_click:64\n",
      "lambda:2,cost:0,max_click:139,current_click:138\n",
      "lambda:2,cost:1,max_click:139,current_click:106\n",
      "lambda:2,cost:2,max_click:139,current_click:87\n",
      "lambda:2,cost:3,max_click:139,current_click:77\n",
      "lambda:2,cost:4,max_click:139,current_click:69\n",
      "lambda:2,cost:5,max_click:139,current_click:65\n",
      "lambda:3,cost:0,max_click:139,current_click:137\n",
      "lambda:3,cost:1,max_click:139,current_click:106\n",
      "lambda:3,cost:2,max_click:139,current_click:86\n",
      "lambda:3,cost:3,max_click:139,current_click:77\n",
      "lambda:3,cost:4,max_click:139,current_click:70\n",
      "lambda:3,cost:5,max_click:139,current_click:65\n",
      "lambda:4,cost:0,max_click:139,current_click:136\n",
      "lambda:4,cost:1,max_click:139,current_click:107\n",
      "lambda:4,cost:2,max_click:139,current_click:86\n",
      "lambda:4,cost:3,max_click:139,current_click:77\n",
      "lambda:4,cost:4,max_click:139,current_click:71\n",
      "lambda:4,cost:5,max_click:139,current_click:65\n",
      "lambda:5,cost:0,max_click:139,current_click:135\n",
      "lambda:5,cost:1,max_click:139,current_click:110\n",
      "lambda:5,cost:2,max_click:139,current_click:86\n",
      "lambda:5,cost:3,max_click:139,current_click:77\n",
      "lambda:5,cost:4,max_click:139,current_click:72\n",
      "lambda:5,cost:5,max_click:139,current_click:66\n",
      "lambda:6,cost:0,max_click:139,current_click:135\n",
      "lambda:6,cost:1,max_click:139,current_click:111\n",
      "lambda:6,cost:2,max_click:139,current_click:86\n"
     ]
    }
   ],
   "source": [
    "run_nonlinear_bid_model(validation_data,ORTB,pCTR_val_X)"
   ]
  },
  {
   "cell_type": "code",
   "execution_count": 64,
   "metadata": {},
   "outputs": [],
   "source": [
    "run_nonlinear_bid_model(validation_data,ORTB_2,pCTR_val_X)"
   ]
  },
  {
   "cell_type": "code",
   "execution_count": null,
   "metadata": {},
   "outputs": [],
   "source": [
    "run_nonlinear_bid_model(validation_data,ORTB,pCTR_val_L)"
   ]
  },
  {
   "cell_type": "code",
   "execution_count": null,
   "metadata": {},
   "outputs": [],
   "source": [
    "run_nonlinear_bid_model(validation_data,ORTB_2,pCTR_val_X)"
   ]
  },
  {
   "cell_type": "markdown",
   "metadata": {},
   "source": [
    "# Leaderboard Bid"
   ]
  },
  {
   "cell_type": "code",
   "execution_count": 78,
   "metadata": {},
   "outputs": [],
   "source": [
    "pCTR_test_X=test_data['click_proba_XGBOOST']"
   ]
  },
  {
   "cell_type": "code",
   "execution_count": 79,
   "metadata": {},
   "outputs": [
    {
     "data": {
      "text/html": [
       "<div>\n",
       "<style scoped>\n",
       "    .dataframe tbody tr th:only-of-type {\n",
       "        vertical-align: middle;\n",
       "    }\n",
       "\n",
       "    .dataframe tbody tr th {\n",
       "        vertical-align: top;\n",
       "    }\n",
       "\n",
       "    .dataframe thead th {\n",
       "        text-align: right;\n",
       "    }\n",
       "</style>\n",
       "<table border=\"1\" class=\"dataframe\">\n",
       "  <thead>\n",
       "    <tr style=\"text-align: right;\">\n",
       "      <th></th>\n",
       "      <th>bidid</th>\n",
       "      <th>bidprice</th>\n",
       "    </tr>\n",
       "  </thead>\n",
       "  <tbody>\n",
       "    <tr>\n",
       "      <th>15964</th>\n",
       "      <td>0bff28fdd290fea4bfa3bd7a6981e72a260af732</td>\n",
       "      <td>1.0</td>\n",
       "    </tr>\n",
       "    <tr>\n",
       "      <th>170007</th>\n",
       "      <td>486da4677f0a11275369f95abc81c2fe7dd0db49</td>\n",
       "      <td>1.0</td>\n",
       "    </tr>\n",
       "    <tr>\n",
       "      <th>53369</th>\n",
       "      <td>6e397c59c551bb9b3539fd9e5c6e6c894ba5209e</td>\n",
       "      <td>1.0</td>\n",
       "    </tr>\n",
       "    <tr>\n",
       "      <th>236585</th>\n",
       "      <td>2be3f65d4c47b33c39d64bd21feea3eb1b54f614</td>\n",
       "      <td>1.0</td>\n",
       "    </tr>\n",
       "    <tr>\n",
       "      <th>40569</th>\n",
       "      <td>089719ddaf842b89bcef2133568dc32a29e64d68</td>\n",
       "      <td>1.0</td>\n",
       "    </tr>\n",
       "    <tr>\n",
       "      <th>209830</th>\n",
       "      <td>931583b1a71cb59fc55319bf5429c8f01f73b09f</td>\n",
       "      <td>1.0</td>\n",
       "    </tr>\n",
       "    <tr>\n",
       "      <th>23981</th>\n",
       "      <td>210540ff360b33ec6e75dc28684bf38e96c0a9c7</td>\n",
       "      <td>1.0</td>\n",
       "    </tr>\n",
       "    <tr>\n",
       "      <th>201966</th>\n",
       "      <td>5e397e0f127f7fa8de3eee432a0ae4f9ca92534a</td>\n",
       "      <td>1.0</td>\n",
       "    </tr>\n",
       "    <tr>\n",
       "      <th>290992</th>\n",
       "      <td>9e7e8f322f17d62b49bccde983f3d3f521523399</td>\n",
       "      <td>1.0</td>\n",
       "    </tr>\n",
       "    <tr>\n",
       "      <th>193498</th>\n",
       "      <td>015feb0b514e9012d4628a0ddc968fb7059a6ce0</td>\n",
       "      <td>1.0</td>\n",
       "    </tr>\n",
       "  </tbody>\n",
       "</table>\n",
       "</div>"
      ],
      "text/plain": [
       "                                           bidid  bidprice\n",
       "15964   0bff28fdd290fea4bfa3bd7a6981e72a260af732       1.0\n",
       "170007  486da4677f0a11275369f95abc81c2fe7dd0db49       1.0\n",
       "53369   6e397c59c551bb9b3539fd9e5c6e6c894ba5209e       1.0\n",
       "236585  2be3f65d4c47b33c39d64bd21feea3eb1b54f614       1.0\n",
       "40569   089719ddaf842b89bcef2133568dc32a29e64d68       1.0\n",
       "209830  931583b1a71cb59fc55319bf5429c8f01f73b09f       1.0\n",
       "23981   210540ff360b33ec6e75dc28684bf38e96c0a9c7       1.0\n",
       "201966  5e397e0f127f7fa8de3eee432a0ae4f9ca92534a       1.0\n",
       "290992  9e7e8f322f17d62b49bccde983f3d3f521523399       1.0\n",
       "193498  015feb0b514e9012d4628a0ddc968fb7059a6ce0       1.0"
      ]
     },
     "execution_count": 79,
     "metadata": {},
     "output_type": "execute_result"
    }
   ],
   "source": [
    "#Will output the csv which will be used for the leaderboard website\n",
    "c_optimum=0.103\n",
    "ld_optimum=5.95*10**-7\n",
    "test_data['bidprice'] = round(np.sqrt(c_optimum*pCTR_test_X/ld_optimum + c_optimum**2)-c_optimum)\n",
    "\n",
    "leaderboard_output = test_data[['bidid','bidprice']]\n",
    "\n",
    "leaderboard_output = leaderboard_output.sort_values(by='bidprice', ascending=True)\n",
    "leaderboard_output.to_csv(\"testing bidding price_v1.csv\", index=False)\n",
    "\n",
    "leaderboard_output.head(10)"
   ]
  }
 ],
 "metadata": {
  "kernelspec": {
   "display_name": "Python 3",
   "language": "python",
   "name": "python3"
  },
  "language_info": {
   "codemirror_mode": {
    "name": "ipython",
    "version": 3
   },
   "file_extension": ".py",
   "mimetype": "text/x-python",
   "name": "python",
   "nbconvert_exporter": "python",
   "pygments_lexer": "ipython3",
   "version": "3.7.1"
  }
 },
 "nbformat": 4,
 "nbformat_minor": 2
}
